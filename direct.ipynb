{
 "cells": [
  {
   "cell_type": "markdown",
   "metadata": {},
   "source": [
    "# Direct Model\n",
    "## Setup"
   ]
  },
  {
   "cell_type": "code",
   "execution_count": 1,
   "metadata": {},
   "outputs": [
    {
     "output_type": "stream",
     "name": "stdout",
     "text": [
      "use cuda =  True\nusing device: cuda\n"
     ]
    }
   ],
   "source": [
    "from data_utils import *\n",
    "from train import * \n",
    "\n",
    "import numpy as np\n",
    "from sklearn.model_selection import StratifiedShuffleSplit\n",
    "import matplotlib.pyplot as plt\n",
    "\n",
    "import torch\n",
    "from torch import nn, optim\n",
    "import torch.nn.functional as F\n",
    "import torchvision.transforms as T\n",
    "import torchvision.models as models\n",
    "import matplotlib.pyplot as plt\n",
    "\n",
    "\n",
    "# for auto-reloading external modules\n",
    "# see http://stackoverflow.com/questions/1907993/autoreload-of-modules-in-ipython\n",
    "%load_ext autoreload\n",
    "%autoreload 2\n",
    "\n",
    "EDIBILITY = False\n",
    "FINAL = True\n",
    "\n",
    "USE_GPU = True\n",
    "\n",
    "if USE_GPU and torch.cuda.is_available():\n",
    "    device = torch.device('cuda')\n",
    "    \n",
    "else:\n",
    "    device = torch.device('cpu')\n",
    "\n",
    "dtype = torch.float32\n",
    "torch.backends.cudnn.benchmark = True\n",
    "\n",
    "print('use cuda = ', torch.cuda.is_available())\n",
    "print('using device:', device)"
   ]
  },
  {
   "cell_type": "markdown",
   "metadata": {},
   "source": [
    "## Load Dataset"
   ]
  },
  {
   "cell_type": "code",
   "execution_count": 2,
   "metadata": {},
   "outputs": [
    {
     "output_type": "stream",
     "name": "stdout",
     "text": [
      "ItemsViewHDF5(<HDF5 file \"bolete.h5\" (mode r)>)\n",
      "\n",
      "bolete-characteristics (38, 1868)\n",
      "bolete-edibility (5, 1868)\n",
      "bolete-images (3, 512, 512, 1868)\n",
      "bolete-labels (1868,)\n"
     ]
    }
   ],
   "source": [
    "fname = \"bolete.h5\"\n",
    "# fname = \"bolete_lowres.h5\"\n",
    "data = load_bolete_data(fname)\n",
    "\n",
    "print()\n",
    "for k in data.keys():\n",
    "    print(k, np.shape(data[k]))"
   ]
  },
  {
   "cell_type": "markdown",
   "metadata": {},
   "source": [
    "## Split into train and test"
   ]
  },
  {
   "cell_type": "code",
   "execution_count": 3,
   "metadata": {},
   "outputs": [
    {
     "output_type": "stream",
     "name": "stdout",
     "text": [
      "(1307, 3, 512, 512)\n(1307,)\n(1307,)\n(561, 3, 512, 512)\n(561,)\n(561,)\n"
     ]
    }
   ],
   "source": [
    "if EDIBILITY:\n",
    "    X_train, X_test, Y_train, Y_test, y_train, y_test = get_train_and_test(data, \"bolete-edibility\")\n",
    "    M = Y_train.shape[1]\n",
    "    Y_train = np.argmax(Y_train, axis=1)\n",
    "    Y_test = np.argmax(Y_test, axis=1)\n",
    "    \n",
    "else:\n",
    "    X_train, X_test, Y_train, Y_test, y_train, y_test = get_train_and_test(data, \"bolete-labels\")\n",
    "    M = np.size(np.unique(Y_train))\n",
    "\n",
    "N, H, W, C = X_train.shape\n",
    "\n",
    "Y_train = Y_train.astype(np.long)\n",
    "Y_test = Y_test.astype(np.long)\n",
    "\n",
    "print(X_train.shape)\n",
    "print(Y_train.shape)\n",
    "print(y_train.shape)\n",
    "print(X_test.shape)\n",
    "print(Y_test.shape)\n",
    "print(y_test.shape)"
   ]
  },
  {
   "cell_type": "markdown",
   "metadata": {},
   "source": [
    "## Define models"
   ]
  },
  {
   "cell_type": "code",
   "execution_count": 4,
   "metadata": {},
   "outputs": [],
   "source": [
    "def simple_model():\n",
    "    # copy final model from ass igment 2\n",
    "    def flatten(x):\n",
    "        \"\"\"Flattens to [N, -1] where -1 is whatever it needs to be\"\"\"\n",
    "        N = x.shape[0] # read in N, C, H, W\n",
    "        return x.view(N, -1)  \n",
    "        # \"flatten\" the C * H * W values into a single vector per image\n",
    "    class Flatten(nn.Module):\n",
    "        def forward(self, x):\n",
    "            return flatten(x)\n",
    "\n",
    "    channel_1 = 32\n",
    "    channel_2 = 24\n",
    "    channel_3 = 16\n",
    "    hidden_dim = 150\n",
    "    learning_rate = 3e-3 # 1e-2\n",
    "\n",
    "    model = nn.Sequential(\n",
    "        nn.Conv2d(C, channel_1, kernel_size=5, padding=2),\n",
    "        # nn.GroupNorm(4,channel_1),\n",
    "        nn.BatchNorm2d(channel_1),\n",
    "        nn.ReLU(),\n",
    "        nn.Dropout(0.3),\n",
    "        nn.Conv2d(channel_1, channel_2, kernel_size=3, padding=1),\n",
    "        # nn.GroupNorm(4,channel_2),\n",
    "        nn.BatchNorm2d(channel_2),\n",
    "        nn.ReLU(),\n",
    "        nn.Dropout(0.2),\n",
    "        nn.Conv2d(channel_2, channel_3, kernel_size=3, padding=1),\n",
    "        # nn.GroupNorm(4,channel_3),\n",
    "        nn.BatchNorm2d(channel_3),\n",
    "        nn.ReLU(),\n",
    "        nn.Dropout(0.1),\n",
    "        Flatten(),\n",
    "        nn.Linear(channel_3 * H * W, hidden_dim),\n",
    "        nn.ReLU(),\n",
    "        nn.Linear(hidden_dim, M)\n",
    "    )\n",
    "    \n",
    "    return model\n",
    "\n",
    "def freeze(model):\n",
    "    for param in model.parameters():\n",
    "        param.requires_grad = False\n",
    "    return model\n",
    "\n",
    "def modified_alexnet():\n",
    "    model = models.alexnet(pretrained=True)\n",
    "    model = freeze(model)\n",
    "\n",
    "    # model.classifier[0] = ???\n",
    "    model.classifier[6] = nn.Linear(in_features=4096, out_features=M, bias=True)\n",
    "    # print(model)\n",
    "    return model\n",
    "\n",
    "def modified_googlenet():\n",
    "    model = models.googlenet(pretrained=True)\n",
    "    model = freeze(model)\n",
    "\n",
    "    fc_in_feats = model.fc.in_features\n",
    "    model.fc = nn.Linear(in_features=fc_in_feats, out_features=M, bias=True)\n",
    "    # print(model)\n",
    "    return model\n",
    "\n",
    "def modified_resnext():\n",
    "    model = models.resnext101_32x8d(pretrained=True)\n",
    "    model = freeze(model)\n",
    "    \n",
    "    fc_in_feats = model.fc.in_features\n",
    "    model.fc = nn.Linear(fc_in_feats, M)\n",
    "    return model"
   ]
  },
  {
   "cell_type": "markdown",
   "metadata": {},
   "source": [
    "## Define the loss function"
   ]
  },
  {
   "cell_type": "code",
   "execution_count": 5,
   "metadata": {},
   "outputs": [],
   "source": [
    "loss_fn = nn.CrossEntropyLoss()\n",
    "\n",
    "def pred_fn(scores):\n",
    "    m = nn.Softmax(dim=1)\n",
    "    return torch.argmax(m(scores), dim=1)"
   ]
  },
  {
   "cell_type": "markdown",
   "metadata": {},
   "source": [
    "## Cross Validate on training data"
   ]
  },
  {
   "cell_type": "code",
   "execution_count": 6,
   "metadata": {
    "tags": []
   },
   "outputs": [
    {
     "output_type": "stream",
     "name": "stdout",
     "text": [
      "CV model on:  cuda\n",
      "CV Fold:  1\n",
      "Training model on:  cuda\n",
      "Iter: 0\n",
      "train Loss: 6.0241 Acc: 0.0124\n",
      "Iter: 1\n",
      "val Loss: 5.0707 Acc: 0.0305\n",
      "Iter: 2\n",
      "train Loss: 4.7341 Acc: 0.0565\n",
      "Iter: 3\n",
      "val Loss: 4.8172 Acc: 0.0573\n",
      "Iter: 4\n",
      "train Loss: 4.1629 Acc: 0.1196\n",
      "Iter: 5\n",
      "val Loss: 4.6237 Acc: 0.0992\n",
      "Iter: 6\n",
      "train Loss: 3.6532 Acc: 0.2258\n",
      "Iter: 7\n",
      "val Loss: 4.4770 Acc: 0.1145\n",
      "Iter: 8\n",
      "train Loss: 3.1963 Acc: 0.3349\n",
      "Iter: 9\n",
      "val Loss: 4.3379 Acc: 0.1183\n",
      "Iter: 10\n",
      "train Loss: 2.8441 Acc: 0.4029\n",
      "Iter: 11\n",
      "val Loss: 4.2403 Acc: 0.1260\n",
      "Iter: 12\n",
      "train Loss: 2.4728 Acc: 0.5062\n",
      "Iter: 13\n",
      "val Loss: 4.1598 Acc: 0.1641\n",
      "Iter: 14\n",
      "train Loss: 2.1649 Acc: 0.5952\n",
      "Iter: 15\n",
      "val Loss: 4.0854 Acc: 0.1718\n",
      "Iter: 16\n",
      "train Loss: 1.9207 Acc: 0.6421\n",
      "Iter: 17\n",
      "val Loss: 4.0558 Acc: 0.1870\n",
      "Iter: 18\n",
      "train Loss: 1.6823 Acc: 0.7014\n",
      "Iter: 19\n",
      "val Loss: 4.0176 Acc: 0.1718\n",
      "Iter: 20\n",
      "train Loss: 1.4871 Acc: 0.7579\n",
      "Iter: 21\n",
      "val Loss: 3.9880 Acc: 0.1947\n",
      "Iter: 22\n",
      "train Loss: 1.2828 Acc: 0.8182\n",
      "Iter: 23\n",
      "val Loss: 3.9843 Acc: 0.1908\n",
      "Iter: 24\n",
      "train Loss: 1.1727 Acc: 0.8182\n",
      "Iter: 25\n",
      "val Loss: 3.9860 Acc: 0.2252\n",
      "Iter: 26\n",
      "train Loss: 1.0111 Acc: 0.8708\n",
      "Iter: 27\n",
      "val Loss: 3.9145 Acc: 0.2405\n",
      "Iter: 28\n",
      "train Loss: 0.9069 Acc: 0.8756\n",
      "Iter: 29\n",
      "val Loss: 3.9549 Acc: 0.2405\n",
      "Iter: 30\n",
      "train Loss: 0.8083 Acc: 0.9005\n",
      "Iter: 31\n",
      "val Loss: 4.0243 Acc: 0.2252\n",
      "Iter: 32\n",
      "train Loss: 0.7045 Acc: 0.9062\n",
      "Iter: 33\n",
      "val Loss: 4.0139 Acc: 0.2405\n",
      "Iter: 34\n",
      "train Loss: 0.6245 Acc: 0.9282\n",
      "Iter: 35\n",
      "val Loss: 3.9529 Acc: 0.2328\n",
      "Iter: 36\n",
      "train Loss: 0.5576 Acc: 0.9474\n",
      "Iter: 37\n",
      "val Loss: 4.0091 Acc: 0.2290\n",
      "Iter: 38\n",
      "train Loss: 0.5150 Acc: 0.9397\n",
      "Iter: 39\n",
      "val Loss: 4.0605 Acc: 0.2366\n",
      "Iter: 40\n",
      "train Loss: 0.4426 Acc: 0.9656\n",
      "Iter: 41\n",
      "val Loss: 4.0765 Acc: 0.2366\n",
      "Iter: 42\n",
      "train Loss: 0.4047 Acc: 0.9665\n",
      "Iter: 43\n",
      "val Loss: 4.1009 Acc: 0.2405\n",
      "Iter: 44\n",
      "train Loss: 0.3548 Acc: 0.9694\n",
      "Iter: 45\n",
      "val Loss: 4.1097 Acc: 0.2595\n",
      "Iter: 46\n",
      "train Loss: 0.3467 Acc: 0.9684\n",
      "Iter: 47\n",
      "val Loss: 4.1930 Acc: 0.2290\n",
      "Iter: 48\n",
      "train Loss: 0.3025 Acc: 0.9713\n",
      "Iter: 49\n",
      "val Loss: 4.1633 Acc: 0.2176\n",
      "Iter: 50\n",
      "train Loss: 0.2774 Acc: 0.9809\n",
      "Iter: 51\n",
      "val Loss: 4.1315 Acc: 0.2481\n",
      "Iter: 52\n",
      "train Loss: 0.2597 Acc: 0.9799\n",
      "Iter: 53\n",
      "val Loss: 4.2240 Acc: 0.2290\n",
      "Iter: 54\n",
      "train Loss: 0.2333 Acc: 0.9895\n",
      "Iter: 55\n",
      "val Loss: 4.1790 Acc: 0.2595\n",
      "Iter: 56\n",
      "train Loss: 0.2280 Acc: 0.9818\n",
      "Iter: 57\n",
      "val Loss: 4.1940 Acc: 0.2748\n",
      "Iter: 58\n",
      "train Loss: 0.1913 Acc: 0.9799\n",
      "Iter: 59\n",
      "val Loss: 4.2558 Acc: 0.2595\n",
      "Iter: 60\n",
      "train Loss: 0.1988 Acc: 0.9818\n",
      "Iter: 61\n",
      "val Loss: 4.2838 Acc: 0.2519\n",
      "Iter: 62\n",
      "train Loss: 0.1715 Acc: 0.9866\n",
      "Iter: 63\n",
      "val Loss: 4.2886 Acc: 0.2252\n",
      "Iter: 64\n",
      "train Loss: 0.1593 Acc: 0.9914\n",
      "Iter: 65\n",
      "val Loss: 4.2601 Acc: 0.2366\n",
      "Iter: 66\n",
      "train Loss: 0.1583 Acc: 0.9847\n",
      "Iter: 67\n",
      "val Loss: 4.2571 Acc: 0.2519\n",
      "Iter: 68\n",
      "train Loss: 0.1613 Acc: 0.9895\n",
      "Iter: 69\n",
      "val Loss: 4.4085 Acc: 0.2328\n",
      "Iter: 70\n",
      "train Loss: 0.1386 Acc: 0.9895\n",
      "Iter: 71\n",
      "val Loss: 4.4294 Acc: 0.2252\n",
      "Iter: 72\n",
      "train Loss: 0.1329 Acc: 0.9885\n",
      "Iter: 73\n",
      "val Loss: 4.3966 Acc: 0.2405\n",
      "Iter: 74\n",
      "train Loss: 0.1162 Acc: 0.9933\n",
      "Iter: 75\n",
      "val Loss: 4.4233 Acc: 0.2328\n",
      "Iter: 76\n",
      "train Loss: 0.1136 Acc: 0.9933\n",
      "Iter: 77\n",
      "val Loss: 4.4487 Acc: 0.2557\n",
      "Iter: 78\n",
      "train Loss: 0.1024 Acc: 0.9943\n",
      "Iter: 79\n",
      "val Loss: 4.4660 Acc: 0.2863\n"
     ]
    }
   ],
   "source": [
    "# model = simple_model()\n",
    "# model = modified_alexnet()\n",
    "model = modified_googlenet()\n",
    "# model = modified_resnext()\n",
    "\n",
    "\n",
    "if EDIBILITY:\n",
    "    optimizer = optim.RMSprop(\n",
    "        model.parameters(),\n",
    "        lr=5e-4,\n",
    "        momentum=0.4,\n",
    "        alpha=0.99\n",
    "        )\n",
    "else:\n",
    "    optimizer = optim.RMSprop(\n",
    "        model.parameters(),\n",
    "        lr=1e-3,\n",
    "        momentum=0.4,\n",
    "        alpha=0.99\n",
    "        )\n",
    "\n",
    "transform = T.Compose([T.ToTensor()])\n",
    "if EDIBILITY:\n",
    "    batch_size = 128\n",
    "    num_epochs = 60\n",
    "else:\n",
    "    batch_size = 8\n",
    "    num_epochs = 40\n",
    "\n",
    "num_folds = 1\n",
    "\n",
    "torch.manual_seed(0)\n",
    "history = cross_val(\n",
    "    X_train=X_train,\n",
    "    Y_train=Y_train,\n",
    "    y_train=y_train,\n",
    "    model=model,\n",
    "    optimizer=optimizer,\n",
    "    loss_fn=loss_fn,\n",
    "    pred_fn=pred_fn,\n",
    "    batch_size=batch_size,\n",
    "    num_epochs=num_epochs,\n",
    "    num_classes=1,\n",
    "    show_every=1,\n",
    "    folds=num_folds,\n",
    "    test_size=0.2,\n",
    "    device=device,\n",
    "    dtype=dtype,\n",
    "    transform=None,\n",
    ")"
   ]
  },
  {
   "cell_type": "markdown",
   "metadata": {},
   "source": [
    "## Plot Training History"
   ]
  },
  {
   "cell_type": "code",
   "execution_count": 7,
   "metadata": {},
   "outputs": [
    {
     "output_type": "stream",
     "name": "stdout",
     "text": [
      "{'train_loss': [[6.024072704588968, 4.734054356442684, 4.162887001037598, 3.6532140138616973, 3.1962504122245825, 2.8440653816934978, 2.4728390664004825, 2.1648940458252097, 1.920680715022475, 1.6823058698736308, 1.4870591156790702, 1.282776426356375, 1.172748851776123, 1.0111261776189484, 0.9069480857210296, 0.8082758382176668, 0.7045356156723351, 0.6245063114394411, 0.5576067177872909, 0.5150483232651031, 0.442617309378665, 0.4047060725221223, 0.35475607902239387, 0.34666329063296886, 0.30250164464329987, 0.27736207355152476, 0.2597001348100781, 0.23328209841650638, 0.22799760123188986, 0.19130535962764156, 0.19880410538335735, 0.17148148065263574, 0.159279104268722, 0.15829273861561094, 0.16134873906676278, 0.13855440652256376, 0.13286396989411714, 0.11617499533595081, 0.1136275300711536, 0.1024484543994283]], 'val_loss': [[5.0706540719243405, 4.817186537589736, 4.623709980768102, 4.4769616345412855, 4.337874882093823, 4.240329214634786, 4.15980055131985, 4.085430916939073, 4.055812344296288, 4.017585339437004, 3.9879680626264964, 3.984321605158216, 3.9860121748829616, 3.9145171733302924, 3.9548631333212816, 4.024322087528142, 4.013891827969151, 3.9529268104611464, 4.009072522170671, 4.060507850792572, 4.076517753018678, 4.100894210902789, 4.109704530876101, 4.193001874530588, 4.163273312663304, 4.131487238498134, 4.224004596244288, 4.17898816552781, 4.1940089400488, 4.2557919953615615, 4.283760114480521, 4.288558581403193, 4.26005495595568, 4.257092606930333, 4.408453471788013, 4.429432985436826, 4.396637115769714, 4.42332662334879, 4.448664989180237, 4.465975968892337]], 'train_acc': [[0.012440191387559809, 0.056459330143540674, 0.11961722488038277, 0.2258373205741627, 0.3349282296650718, 0.4028708133971292, 0.5062200956937799, 0.5952153110047848, 0.6421052631578947, 0.7014354066985646, 0.7578947368421053, 0.8181818181818182, 0.8181818181818182, 0.8708133971291866, 0.8755980861244019, 0.9004784688995215, 0.9062200956937799, 0.9282296650717704, 0.9473684210526316, 0.939712918660287, 0.9655502392344498, 0.9665071770334929, 0.969377990430622, 0.968421052631579, 0.9712918660287082, 0.9808612440191388, 0.9799043062200957, 0.9894736842105264, 0.9818181818181818, 0.9799043062200957, 0.9818181818181818, 0.9866028708133971, 0.9913875598086125, 0.9846889952153111, 0.9894736842105264, 0.9894736842105264, 0.9885167464114832, 0.9933014354066986, 0.9933014354066986, 0.9942583732057416]], 'val_acc': [[0.030534351145038167, 0.05725190839694656, 0.09923664122137404, 0.11450381679389313, 0.11832061068702289, 0.12595419847328243, 0.16412213740458015, 0.17175572519083968, 0.18702290076335878, 0.17175572519083968, 0.1946564885496183, 0.19083969465648853, 0.22519083969465647, 0.24045801526717556, 0.24045801526717556, 0.22519083969465647, 0.24045801526717556, 0.23282442748091603, 0.22900763358778625, 0.23664122137404578, 0.23664122137404578, 0.24045801526717556, 0.2595419847328244, 0.22900763358778625, 0.21755725190839695, 0.2480916030534351, 0.22900763358778625, 0.2595419847328244, 0.2748091603053435, 0.2595419847328244, 0.25190839694656486, 0.22519083969465647, 0.23664122137404578, 0.25190839694656486, 0.23282442748091603, 0.22519083969465647, 0.24045801526717556, 0.23282442748091603, 0.25572519083969464, 0.2862595419847328]]} direct_bolete.h5 False\nhistory_data/direct_bolete.h5_history.csv\n"
     ]
    },
    {
     "output_type": "execute_result",
     "data": {
      "text/plain": [
       "True"
      ]
     },
     "metadata": {},
     "execution_count": 7
    },
    {
     "output_type": "display_data",
     "data": {
      "text/plain": "<Figure size 1080x360 with 2 Axes>",
      "image/svg+xml": "<?xml version=\"1.0\" encoding=\"utf-8\" standalone=\"no\"?>\n<!DOCTYPE svg PUBLIC \"-//W3C//DTD SVG 1.1//EN\"\n  \"http://www.w3.org/Graphics/SVG/1.1/DTD/svg11.dtd\">\n<!-- Created with matplotlib (https://matplotlib.org/) -->\n<svg height=\"331.674375pt\" version=\"1.1\" viewBox=\"0 0 878.440625 331.674375\" width=\"878.440625pt\" xmlns=\"http://www.w3.org/2000/svg\" xmlns:xlink=\"http://www.w3.org/1999/xlink\">\n <metadata>\n  <rdf:RDF xmlns:cc=\"http://creativecommons.org/ns#\" xmlns:dc=\"http://purl.org/dc/elements/1.1/\" xmlns:rdf=\"http://www.w3.org/1999/02/22-rdf-syntax-ns#\">\n   <cc:Work>\n    <dc:type rdf:resource=\"http://purl.org/dc/dcmitype/StillImage\"/>\n    <dc:date>2020-11-24T18:26:41.147685</dc:date>\n    <dc:format>image/svg+xml</dc:format>\n    <dc:creator>\n     <cc:Agent>\n      <dc:title>Matplotlib v3.3.1, https://matplotlib.org/</dc:title>\n     </cc:Agent>\n    </dc:creator>\n   </cc:Work>\n  </rdf:RDF>\n </metadata>\n <defs>\n  <style type=\"text/css\">*{stroke-linecap:butt;stroke-linejoin:round;}</style>\n </defs>\n <g id=\"figure_1\">\n  <g id=\"patch_1\">\n   <path d=\"M 0 331.674375 \nL 878.440625 331.674375 \nL 878.440625 0 \nL 0 0 \nz\n\" style=\"fill:none;\"/>\n  </g>\n  <g id=\"axes_1\">\n   <g id=\"patch_2\">\n    <path d=\"M 34.240625 294.118125 \nL 414.69517 294.118125 \nL 414.69517 22.318125 \nL 34.240625 22.318125 \nz\n\" style=\"fill:#ffffff;\"/>\n   </g>\n   <g id=\"matplotlib.axis_1\">\n    <g id=\"xtick_1\">\n     <g id=\"line2d_1\">\n      <defs>\n       <path d=\"M 0 0 \nL 0 3.5 \n\" id=\"mdd325a81fe\" style=\"stroke:#000000;stroke-width:0.8;\"/>\n      </defs>\n      <g>\n       <use style=\"stroke:#000000;stroke-width:0.8;\" x=\"51.534013\" xlink:href=\"#mdd325a81fe\" y=\"294.118125\"/>\n      </g>\n     </g>\n     <g id=\"text_1\">\n      <!-- 0 -->\n      <g transform=\"translate(48.352763 308.716563)scale(0.1 -0.1)\">\n       <defs>\n        <path d=\"M 31.78125 66.40625 \nQ 24.171875 66.40625 20.328125 58.90625 \nQ 16.5 51.421875 16.5 36.375 \nQ 16.5 21.390625 20.328125 13.890625 \nQ 24.171875 6.390625 31.78125 6.390625 \nQ 39.453125 6.390625 43.28125 13.890625 \nQ 47.125 21.390625 47.125 36.375 \nQ 47.125 51.421875 43.28125 58.90625 \nQ 39.453125 66.40625 31.78125 66.40625 \nz\nM 31.78125 74.21875 \nQ 44.046875 74.21875 50.515625 64.515625 \nQ 56.984375 54.828125 56.984375 36.375 \nQ 56.984375 17.96875 50.515625 8.265625 \nQ 44.046875 -1.421875 31.78125 -1.421875 \nQ 19.53125 -1.421875 13.0625 8.265625 \nQ 6.59375 17.96875 6.59375 36.375 \nQ 6.59375 54.828125 13.0625 64.515625 \nQ 19.53125 74.21875 31.78125 74.21875 \nz\n\" id=\"DejaVuSans-48\"/>\n       </defs>\n       <use xlink:href=\"#DejaVuSans-48\"/>\n      </g>\n     </g>\n    </g>\n    <g id=\"xtick_2\">\n     <g id=\"line2d_2\">\n      <g>\n       <use style=\"stroke:#000000;stroke-width:0.8;\" x=\"95.876035\" xlink:href=\"#mdd325a81fe\" y=\"294.118125\"/>\n      </g>\n     </g>\n     <g id=\"text_2\">\n      <!-- 5 -->\n      <g transform=\"translate(92.694785 308.716563)scale(0.1 -0.1)\">\n       <defs>\n        <path d=\"M 10.796875 72.90625 \nL 49.515625 72.90625 \nL 49.515625 64.59375 \nL 19.828125 64.59375 \nL 19.828125 46.734375 \nQ 21.96875 47.46875 24.109375 47.828125 \nQ 26.265625 48.1875 28.421875 48.1875 \nQ 40.625 48.1875 47.75 41.5 \nQ 54.890625 34.8125 54.890625 23.390625 \nQ 54.890625 11.625 47.5625 5.09375 \nQ 40.234375 -1.421875 26.90625 -1.421875 \nQ 22.3125 -1.421875 17.546875 -0.640625 \nQ 12.796875 0.140625 7.71875 1.703125 \nL 7.71875 11.625 \nQ 12.109375 9.234375 16.796875 8.0625 \nQ 21.484375 6.890625 26.703125 6.890625 \nQ 35.15625 6.890625 40.078125 11.328125 \nQ 45.015625 15.765625 45.015625 23.390625 \nQ 45.015625 31 40.078125 35.4375 \nQ 35.15625 39.890625 26.703125 39.890625 \nQ 22.75 39.890625 18.8125 39.015625 \nQ 14.890625 38.140625 10.796875 36.28125 \nz\n\" id=\"DejaVuSans-53\"/>\n       </defs>\n       <use xlink:href=\"#DejaVuSans-53\"/>\n      </g>\n     </g>\n    </g>\n    <g id=\"xtick_3\">\n     <g id=\"line2d_3\">\n      <g>\n       <use style=\"stroke:#000000;stroke-width:0.8;\" x=\"140.218057\" xlink:href=\"#mdd325a81fe\" y=\"294.118125\"/>\n      </g>\n     </g>\n     <g id=\"text_3\">\n      <!-- 10 -->\n      <g transform=\"translate(133.855557 308.716563)scale(0.1 -0.1)\">\n       <defs>\n        <path d=\"M 12.40625 8.296875 \nL 28.515625 8.296875 \nL 28.515625 63.921875 \nL 10.984375 60.40625 \nL 10.984375 69.390625 \nL 28.421875 72.90625 \nL 38.28125 72.90625 \nL 38.28125 8.296875 \nL 54.390625 8.296875 \nL 54.390625 0 \nL 12.40625 0 \nz\n\" id=\"DejaVuSans-49\"/>\n       </defs>\n       <use xlink:href=\"#DejaVuSans-49\"/>\n       <use x=\"63.623047\" xlink:href=\"#DejaVuSans-48\"/>\n      </g>\n     </g>\n    </g>\n    <g id=\"xtick_4\">\n     <g id=\"line2d_4\">\n      <g>\n       <use style=\"stroke:#000000;stroke-width:0.8;\" x=\"184.560078\" xlink:href=\"#mdd325a81fe\" y=\"294.118125\"/>\n      </g>\n     </g>\n     <g id=\"text_4\">\n      <!-- 15 -->\n      <g transform=\"translate(178.197578 308.716563)scale(0.1 -0.1)\">\n       <use xlink:href=\"#DejaVuSans-49\"/>\n       <use x=\"63.623047\" xlink:href=\"#DejaVuSans-53\"/>\n      </g>\n     </g>\n    </g>\n    <g id=\"xtick_5\">\n     <g id=\"line2d_5\">\n      <g>\n       <use style=\"stroke:#000000;stroke-width:0.8;\" x=\"228.9021\" xlink:href=\"#mdd325a81fe\" y=\"294.118125\"/>\n      </g>\n     </g>\n     <g id=\"text_5\">\n      <!-- 20 -->\n      <g transform=\"translate(222.5396 308.716563)scale(0.1 -0.1)\">\n       <defs>\n        <path d=\"M 19.1875 8.296875 \nL 53.609375 8.296875 \nL 53.609375 0 \nL 7.328125 0 \nL 7.328125 8.296875 \nQ 12.9375 14.109375 22.625 23.890625 \nQ 32.328125 33.6875 34.8125 36.53125 \nQ 39.546875 41.84375 41.421875 45.53125 \nQ 43.3125 49.21875 43.3125 52.78125 \nQ 43.3125 58.59375 39.234375 62.25 \nQ 35.15625 65.921875 28.609375 65.921875 \nQ 23.96875 65.921875 18.8125 64.3125 \nQ 13.671875 62.703125 7.8125 59.421875 \nL 7.8125 69.390625 \nQ 13.765625 71.78125 18.9375 73 \nQ 24.125 74.21875 28.421875 74.21875 \nQ 39.75 74.21875 46.484375 68.546875 \nQ 53.21875 62.890625 53.21875 53.421875 \nQ 53.21875 48.921875 51.53125 44.890625 \nQ 49.859375 40.875 45.40625 35.40625 \nQ 44.1875 33.984375 37.640625 27.21875 \nQ 31.109375 20.453125 19.1875 8.296875 \nz\n\" id=\"DejaVuSans-50\"/>\n       </defs>\n       <use xlink:href=\"#DejaVuSans-50\"/>\n       <use x=\"63.623047\" xlink:href=\"#DejaVuSans-48\"/>\n      </g>\n     </g>\n    </g>\n    <g id=\"xtick_6\">\n     <g id=\"line2d_6\">\n      <g>\n       <use style=\"stroke:#000000;stroke-width:0.8;\" x=\"273.244122\" xlink:href=\"#mdd325a81fe\" y=\"294.118125\"/>\n      </g>\n     </g>\n     <g id=\"text_6\">\n      <!-- 25 -->\n      <g transform=\"translate(266.881622 308.716563)scale(0.1 -0.1)\">\n       <use xlink:href=\"#DejaVuSans-50\"/>\n       <use x=\"63.623047\" xlink:href=\"#DejaVuSans-53\"/>\n      </g>\n     </g>\n    </g>\n    <g id=\"xtick_7\">\n     <g id=\"line2d_7\">\n      <g>\n       <use style=\"stroke:#000000;stroke-width:0.8;\" x=\"317.586143\" xlink:href=\"#mdd325a81fe\" y=\"294.118125\"/>\n      </g>\n     </g>\n     <g id=\"text_7\">\n      <!-- 30 -->\n      <g transform=\"translate(311.223643 308.716563)scale(0.1 -0.1)\">\n       <defs>\n        <path d=\"M 40.578125 39.3125 \nQ 47.65625 37.796875 51.625 33 \nQ 55.609375 28.21875 55.609375 21.1875 \nQ 55.609375 10.40625 48.1875 4.484375 \nQ 40.765625 -1.421875 27.09375 -1.421875 \nQ 22.515625 -1.421875 17.65625 -0.515625 \nQ 12.796875 0.390625 7.625 2.203125 \nL 7.625 11.71875 \nQ 11.71875 9.328125 16.59375 8.109375 \nQ 21.484375 6.890625 26.8125 6.890625 \nQ 36.078125 6.890625 40.9375 10.546875 \nQ 45.796875 14.203125 45.796875 21.1875 \nQ 45.796875 27.640625 41.28125 31.265625 \nQ 36.765625 34.90625 28.71875 34.90625 \nL 20.21875 34.90625 \nL 20.21875 43.015625 \nL 29.109375 43.015625 \nQ 36.375 43.015625 40.234375 45.921875 \nQ 44.09375 48.828125 44.09375 54.296875 \nQ 44.09375 59.90625 40.109375 62.90625 \nQ 36.140625 65.921875 28.71875 65.921875 \nQ 24.65625 65.921875 20.015625 65.03125 \nQ 15.375 64.15625 9.8125 62.3125 \nL 9.8125 71.09375 \nQ 15.4375 72.65625 20.34375 73.4375 \nQ 25.25 74.21875 29.59375 74.21875 \nQ 40.828125 74.21875 47.359375 69.109375 \nQ 53.90625 64.015625 53.90625 55.328125 \nQ 53.90625 49.265625 50.4375 45.09375 \nQ 46.96875 40.921875 40.578125 39.3125 \nz\n\" id=\"DejaVuSans-51\"/>\n       </defs>\n       <use xlink:href=\"#DejaVuSans-51\"/>\n       <use x=\"63.623047\" xlink:href=\"#DejaVuSans-48\"/>\n      </g>\n     </g>\n    </g>\n    <g id=\"xtick_8\">\n     <g id=\"line2d_8\">\n      <g>\n       <use style=\"stroke:#000000;stroke-width:0.8;\" x=\"361.928165\" xlink:href=\"#mdd325a81fe\" y=\"294.118125\"/>\n      </g>\n     </g>\n     <g id=\"text_8\">\n      <!-- 35 -->\n      <g transform=\"translate(355.565665 308.716563)scale(0.1 -0.1)\">\n       <use xlink:href=\"#DejaVuSans-51\"/>\n       <use x=\"63.623047\" xlink:href=\"#DejaVuSans-53\"/>\n      </g>\n     </g>\n    </g>\n    <g id=\"xtick_9\">\n     <g id=\"line2d_9\">\n      <g>\n       <use style=\"stroke:#000000;stroke-width:0.8;\" x=\"406.270186\" xlink:href=\"#mdd325a81fe\" y=\"294.118125\"/>\n      </g>\n     </g>\n     <g id=\"text_9\">\n      <!-- 40 -->\n      <g transform=\"translate(399.907686 308.716563)scale(0.1 -0.1)\">\n       <defs>\n        <path d=\"M 37.796875 64.3125 \nL 12.890625 25.390625 \nL 37.796875 25.390625 \nz\nM 35.203125 72.90625 \nL 47.609375 72.90625 \nL 47.609375 25.390625 \nL 58.015625 25.390625 \nL 58.015625 17.1875 \nL 47.609375 17.1875 \nL 47.609375 0 \nL 37.796875 0 \nL 37.796875 17.1875 \nL 4.890625 17.1875 \nL 4.890625 26.703125 \nz\n\" id=\"DejaVuSans-52\"/>\n       </defs>\n       <use xlink:href=\"#DejaVuSans-52\"/>\n       <use x=\"63.623047\" xlink:href=\"#DejaVuSans-48\"/>\n      </g>\n     </g>\n    </g>\n    <g id=\"text_10\">\n     <!-- Epoch -->\n     <g transform=\"translate(209.15696 322.394687)scale(0.1 -0.1)\">\n      <defs>\n       <path d=\"M 9.8125 72.90625 \nL 55.90625 72.90625 \nL 55.90625 64.59375 \nL 19.671875 64.59375 \nL 19.671875 43.015625 \nL 54.390625 43.015625 \nL 54.390625 34.71875 \nL 19.671875 34.71875 \nL 19.671875 8.296875 \nL 56.78125 8.296875 \nL 56.78125 0 \nL 9.8125 0 \nz\n\" id=\"DejaVuSans-69\"/>\n       <path d=\"M 18.109375 8.203125 \nL 18.109375 -20.796875 \nL 9.078125 -20.796875 \nL 9.078125 54.6875 \nL 18.109375 54.6875 \nL 18.109375 46.390625 \nQ 20.953125 51.265625 25.265625 53.625 \nQ 29.59375 56 35.59375 56 \nQ 45.5625 56 51.78125 48.09375 \nQ 58.015625 40.1875 58.015625 27.296875 \nQ 58.015625 14.40625 51.78125 6.484375 \nQ 45.5625 -1.421875 35.59375 -1.421875 \nQ 29.59375 -1.421875 25.265625 0.953125 \nQ 20.953125 3.328125 18.109375 8.203125 \nz\nM 48.6875 27.296875 \nQ 48.6875 37.203125 44.609375 42.84375 \nQ 40.53125 48.484375 33.40625 48.484375 \nQ 26.265625 48.484375 22.1875 42.84375 \nQ 18.109375 37.203125 18.109375 27.296875 \nQ 18.109375 17.390625 22.1875 11.75 \nQ 26.265625 6.109375 33.40625 6.109375 \nQ 40.53125 6.109375 44.609375 11.75 \nQ 48.6875 17.390625 48.6875 27.296875 \nz\n\" id=\"DejaVuSans-112\"/>\n       <path d=\"M 30.609375 48.390625 \nQ 23.390625 48.390625 19.1875 42.75 \nQ 14.984375 37.109375 14.984375 27.296875 \nQ 14.984375 17.484375 19.15625 11.84375 \nQ 23.34375 6.203125 30.609375 6.203125 \nQ 37.796875 6.203125 41.984375 11.859375 \nQ 46.1875 17.53125 46.1875 27.296875 \nQ 46.1875 37.015625 41.984375 42.703125 \nQ 37.796875 48.390625 30.609375 48.390625 \nz\nM 30.609375 56 \nQ 42.328125 56 49.015625 48.375 \nQ 55.71875 40.765625 55.71875 27.296875 \nQ 55.71875 13.875 49.015625 6.21875 \nQ 42.328125 -1.421875 30.609375 -1.421875 \nQ 18.84375 -1.421875 12.171875 6.21875 \nQ 5.515625 13.875 5.515625 27.296875 \nQ 5.515625 40.765625 12.171875 48.375 \nQ 18.84375 56 30.609375 56 \nz\n\" id=\"DejaVuSans-111\"/>\n       <path d=\"M 48.78125 52.59375 \nL 48.78125 44.1875 \nQ 44.96875 46.296875 41.140625 47.34375 \nQ 37.3125 48.390625 33.40625 48.390625 \nQ 24.65625 48.390625 19.8125 42.84375 \nQ 14.984375 37.3125 14.984375 27.296875 \nQ 14.984375 17.28125 19.8125 11.734375 \nQ 24.65625 6.203125 33.40625 6.203125 \nQ 37.3125 6.203125 41.140625 7.25 \nQ 44.96875 8.296875 48.78125 10.40625 \nL 48.78125 2.09375 \nQ 45.015625 0.34375 40.984375 -0.53125 \nQ 36.96875 -1.421875 32.421875 -1.421875 \nQ 20.0625 -1.421875 12.78125 6.34375 \nQ 5.515625 14.109375 5.515625 27.296875 \nQ 5.515625 40.671875 12.859375 48.328125 \nQ 20.21875 56 33.015625 56 \nQ 37.15625 56 41.109375 55.140625 \nQ 45.0625 54.296875 48.78125 52.59375 \nz\n\" id=\"DejaVuSans-99\"/>\n       <path d=\"M 54.890625 33.015625 \nL 54.890625 0 \nL 45.90625 0 \nL 45.90625 32.71875 \nQ 45.90625 40.484375 42.875 44.328125 \nQ 39.84375 48.1875 33.796875 48.1875 \nQ 26.515625 48.1875 22.3125 43.546875 \nQ 18.109375 38.921875 18.109375 30.90625 \nL 18.109375 0 \nL 9.078125 0 \nL 9.078125 75.984375 \nL 18.109375 75.984375 \nL 18.109375 46.1875 \nQ 21.34375 51.125 25.703125 53.5625 \nQ 30.078125 56 35.796875 56 \nQ 45.21875 56 50.046875 50.171875 \nQ 54.890625 44.34375 54.890625 33.015625 \nz\n\" id=\"DejaVuSans-104\"/>\n      </defs>\n      <use xlink:href=\"#DejaVuSans-69\"/>\n      <use x=\"63.183594\" xlink:href=\"#DejaVuSans-112\"/>\n      <use x=\"126.660156\" xlink:href=\"#DejaVuSans-111\"/>\n      <use x=\"187.841797\" xlink:href=\"#DejaVuSans-99\"/>\n      <use x=\"242.822266\" xlink:href=\"#DejaVuSans-104\"/>\n     </g>\n    </g>\n   </g>\n   <g id=\"matplotlib.axis_2\">\n    <g id=\"ytick_1\">\n     <g id=\"line2d_10\">\n      <defs>\n       <path d=\"M 0 0 \nL -3.5 0 \n\" id=\"ma19e2fcb2b\" style=\"stroke:#000000;stroke-width:0.8;\"/>\n      </defs>\n      <g>\n       <use style=\"stroke:#000000;stroke-width:0.8;\" x=\"34.240625\" xlink:href=\"#ma19e2fcb2b\" y=\"286.038434\"/>\n      </g>\n     </g>\n     <g id=\"text_11\">\n      <!-- 0 -->\n      <g transform=\"translate(20.878125 289.837653)scale(0.1 -0.1)\">\n       <use xlink:href=\"#DejaVuSans-48\"/>\n      </g>\n     </g>\n    </g>\n    <g id=\"ytick_2\">\n     <g id=\"line2d_11\">\n      <g>\n       <use style=\"stroke:#000000;stroke-width:0.8;\" x=\"34.240625\" xlink:href=\"#ma19e2fcb2b\" y=\"244.311553\"/>\n      </g>\n     </g>\n     <g id=\"text_12\">\n      <!-- 1 -->\n      <g transform=\"translate(20.878125 248.110772)scale(0.1 -0.1)\">\n       <use xlink:href=\"#DejaVuSans-49\"/>\n      </g>\n     </g>\n    </g>\n    <g id=\"ytick_3\">\n     <g id=\"line2d_12\">\n      <g>\n       <use style=\"stroke:#000000;stroke-width:0.8;\" x=\"34.240625\" xlink:href=\"#ma19e2fcb2b\" y=\"202.584672\"/>\n      </g>\n     </g>\n     <g id=\"text_13\">\n      <!-- 2 -->\n      <g transform=\"translate(20.878125 206.383891)scale(0.1 -0.1)\">\n       <use xlink:href=\"#DejaVuSans-50\"/>\n      </g>\n     </g>\n    </g>\n    <g id=\"ytick_4\">\n     <g id=\"line2d_13\">\n      <g>\n       <use style=\"stroke:#000000;stroke-width:0.8;\" x=\"34.240625\" xlink:href=\"#ma19e2fcb2b\" y=\"160.857792\"/>\n      </g>\n     </g>\n     <g id=\"text_14\">\n      <!-- 3 -->\n      <g transform=\"translate(20.878125 164.65701)scale(0.1 -0.1)\">\n       <use xlink:href=\"#DejaVuSans-51\"/>\n      </g>\n     </g>\n    </g>\n    <g id=\"ytick_5\">\n     <g id=\"line2d_14\">\n      <g>\n       <use style=\"stroke:#000000;stroke-width:0.8;\" x=\"34.240625\" xlink:href=\"#ma19e2fcb2b\" y=\"119.130911\"/>\n      </g>\n     </g>\n     <g id=\"text_15\">\n      <!-- 4 -->\n      <g transform=\"translate(20.878125 122.93013)scale(0.1 -0.1)\">\n       <use xlink:href=\"#DejaVuSans-52\"/>\n      </g>\n     </g>\n    </g>\n    <g id=\"ytick_6\">\n     <g id=\"line2d_15\">\n      <g>\n       <use style=\"stroke:#000000;stroke-width:0.8;\" x=\"34.240625\" xlink:href=\"#ma19e2fcb2b\" y=\"77.40403\"/>\n      </g>\n     </g>\n     <g id=\"text_16\">\n      <!-- 5 -->\n      <g transform=\"translate(20.878125 81.203249)scale(0.1 -0.1)\">\n       <use xlink:href=\"#DejaVuSans-53\"/>\n      </g>\n     </g>\n    </g>\n    <g id=\"ytick_7\">\n     <g id=\"line2d_16\">\n      <g>\n       <use style=\"stroke:#000000;stroke-width:0.8;\" x=\"34.240625\" xlink:href=\"#ma19e2fcb2b\" y=\"35.677149\"/>\n      </g>\n     </g>\n     <g id=\"text_17\">\n      <!-- 6 -->\n      <g transform=\"translate(20.878125 39.476368)scale(0.1 -0.1)\">\n       <defs>\n        <path d=\"M 33.015625 40.375 \nQ 26.375 40.375 22.484375 35.828125 \nQ 18.609375 31.296875 18.609375 23.390625 \nQ 18.609375 15.53125 22.484375 10.953125 \nQ 26.375 6.390625 33.015625 6.390625 \nQ 39.65625 6.390625 43.53125 10.953125 \nQ 47.40625 15.53125 47.40625 23.390625 \nQ 47.40625 31.296875 43.53125 35.828125 \nQ 39.65625 40.375 33.015625 40.375 \nz\nM 52.59375 71.296875 \nL 52.59375 62.3125 \nQ 48.875 64.0625 45.09375 64.984375 \nQ 41.3125 65.921875 37.59375 65.921875 \nQ 27.828125 65.921875 22.671875 59.328125 \nQ 17.53125 52.734375 16.796875 39.40625 \nQ 19.671875 43.65625 24.015625 45.921875 \nQ 28.375 48.1875 33.59375 48.1875 \nQ 44.578125 48.1875 50.953125 41.515625 \nQ 57.328125 34.859375 57.328125 23.390625 \nQ 57.328125 12.15625 50.6875 5.359375 \nQ 44.046875 -1.421875 33.015625 -1.421875 \nQ 20.359375 -1.421875 13.671875 8.265625 \nQ 6.984375 17.96875 6.984375 36.375 \nQ 6.984375 53.65625 15.1875 63.9375 \nQ 23.390625 74.21875 37.203125 74.21875 \nQ 40.921875 74.21875 44.703125 73.484375 \nQ 48.484375 72.75 52.59375 71.296875 \nz\n\" id=\"DejaVuSans-54\"/>\n       </defs>\n       <use xlink:href=\"#DejaVuSans-54\"/>\n      </g>\n     </g>\n    </g>\n    <g id=\"text_18\">\n     <!-- Loss -->\n     <g transform=\"translate(14.798438 169.185313)rotate(-90)scale(0.1 -0.1)\">\n      <defs>\n       <path d=\"M 9.8125 72.90625 \nL 19.671875 72.90625 \nL 19.671875 8.296875 \nL 55.171875 8.296875 \nL 55.171875 0 \nL 9.8125 0 \nz\n\" id=\"DejaVuSans-76\"/>\n       <path d=\"M 44.28125 53.078125 \nL 44.28125 44.578125 \nQ 40.484375 46.53125 36.375 47.5 \nQ 32.28125 48.484375 27.875 48.484375 \nQ 21.1875 48.484375 17.84375 46.4375 \nQ 14.5 44.390625 14.5 40.28125 \nQ 14.5 37.15625 16.890625 35.375 \nQ 19.28125 33.59375 26.515625 31.984375 \nL 29.59375 31.296875 \nQ 39.15625 29.25 43.1875 25.515625 \nQ 47.21875 21.78125 47.21875 15.09375 \nQ 47.21875 7.46875 41.1875 3.015625 \nQ 35.15625 -1.421875 24.609375 -1.421875 \nQ 20.21875 -1.421875 15.453125 -0.5625 \nQ 10.6875 0.296875 5.421875 2 \nL 5.421875 11.28125 \nQ 10.40625 8.6875 15.234375 7.390625 \nQ 20.0625 6.109375 24.8125 6.109375 \nQ 31.15625 6.109375 34.5625 8.28125 \nQ 37.984375 10.453125 37.984375 14.40625 \nQ 37.984375 18.0625 35.515625 20.015625 \nQ 33.0625 21.96875 24.703125 23.78125 \nL 21.578125 24.515625 \nQ 13.234375 26.265625 9.515625 29.90625 \nQ 5.8125 33.546875 5.8125 39.890625 \nQ 5.8125 47.609375 11.28125 51.796875 \nQ 16.75 56 26.8125 56 \nQ 31.78125 56 36.171875 55.265625 \nQ 40.578125 54.546875 44.28125 53.078125 \nz\n\" id=\"DejaVuSans-115\"/>\n      </defs>\n      <use xlink:href=\"#DejaVuSans-76\"/>\n      <use x=\"53.962891\" xlink:href=\"#DejaVuSans-111\"/>\n      <use x=\"115.144531\" xlink:href=\"#DejaVuSans-115\"/>\n      <use x=\"167.244141\" xlink:href=\"#DejaVuSans-115\"/>\n     </g>\n    </g>\n   </g>\n   <g id=\"line2d_17\">\n    <path clip-path=\"url(#pf72333774d)\" d=\"M 51.534013 34.67267 \nL 60.402418 88.501112 \nL 69.270822 112.334144 \nL 78.139226 133.601208 \nL 87.007631 152.668874 \nL 95.876035 167.364457 \nL 104.744439 182.854573 \nL 113.612844 195.704158 \nL 122.481248 205.894419 \nL 131.349652 215.841058 \nL 140.218057 223.988096 \nL 149.086461 232.512175 \nL 157.954865 237.103282 \nL 166.82327 243.847293 \nL 175.691674 248.194319 \nL 184.560078 252.311604 \nL 193.428483 256.64036 \nL 202.296887 259.979734 \nL 211.165291 262.771245 \nL 220.033696 264.547074 \nL 228.9021 267.569394 \nL 237.770504 269.151312 \nL 246.638909 271.235569 \nL 255.507313 271.573256 \nL 264.375717 273.415984 \nL 273.244122 274.46498 \nL 282.112526 275.201957 \nL 290.98093 276.3043 \nL 299.849334 276.524805 \nL 308.717739 278.055858 \nL 317.586143 277.742959 \nL 326.454547 278.883047 \nL 335.322952 279.392214 \nL 344.191356 279.433372 \nL 353.05976 279.305854 \nL 361.928165 280.256991 \nL 370.796569 280.494435 \nL 379.664973 281.190814 \nL 388.533378 281.297112 \nL 397.401782 281.76358 \n\" style=\"fill:none;stroke:#1f77b4;stroke-linecap:square;stroke-width:1.5;\"/>\n   </g>\n   <g id=\"line2d_18\">\n    <path clip-path=\"url(#pf72333774d)\" d=\"M 51.534013 74.455856 \nL 60.402418 85.032266 \nL 69.270822 93.105439 \nL 78.139226 99.22879 \nL 87.007631 105.032446 \nL 95.876035 109.102722 \nL 104.744439 112.462932 \nL 113.612844 115.566145 \nL 122.481248 116.802036 \nL 131.349652 118.39713 \nL 140.218057 119.632966 \nL 149.086461 119.785121 \nL 157.954865 119.714579 \nL 166.82327 122.697843 \nL 175.691674 121.014332 \nL 184.560078 118.116026 \nL 193.428483 118.551248 \nL 202.296887 121.095128 \nL 211.165291 118.752343 \nL 220.033696 116.606107 \nL 228.9021 115.938064 \nL 237.770504 114.92091 \nL 246.638909 114.553283 \nL 255.507313 111.077545 \nL 264.375717 112.318025 \nL 273.244122 113.644359 \nL 282.112526 109.783898 \nL 290.98093 111.662293 \nL 299.849334 111.035523 \nL 308.717739 108.457509 \nL 317.586143 107.290486 \nL 326.454547 107.090261 \nL 335.322952 108.279629 \nL 344.191356 108.403238 \nL 353.05976 102.087422 \nL 361.928165 101.212012 \nL 370.796569 102.580481 \nL 379.664973 101.466811 \nL 388.533378 100.40952 \nL 397.401782 99.687187 \n\" style=\"fill:none;stroke:#ff7f0e;stroke-linecap:square;stroke-width:1.5;\"/>\n   </g>\n   <g id=\"patch_3\">\n    <path d=\"M 34.240625 294.118125 \nL 34.240625 22.318125 \n\" style=\"fill:none;stroke:#000000;stroke-linecap:square;stroke-linejoin:miter;stroke-width:0.8;\"/>\n   </g>\n   <g id=\"patch_4\">\n    <path d=\"M 414.69517 294.118125 \nL 414.69517 22.318125 \n\" style=\"fill:none;stroke:#000000;stroke-linecap:square;stroke-linejoin:miter;stroke-width:0.8;\"/>\n   </g>\n   <g id=\"patch_5\">\n    <path d=\"M 34.240625 294.118125 \nL 414.69517 294.118125 \n\" style=\"fill:none;stroke:#000000;stroke-linecap:square;stroke-linejoin:miter;stroke-width:0.8;\"/>\n   </g>\n   <g id=\"patch_6\">\n    <path d=\"M 34.240625 22.318125 \nL 414.69517 22.318125 \n\" style=\"fill:none;stroke:#000000;stroke-linecap:square;stroke-linejoin:miter;stroke-width:0.8;\"/>\n   </g>\n   <g id=\"text_19\">\n    <!-- loss -->\n    <g transform=\"translate(212.878523 16.318125)scale(0.12 -0.12)\">\n     <defs>\n      <path d=\"M 9.421875 75.984375 \nL 18.40625 75.984375 \nL 18.40625 0 \nL 9.421875 0 \nz\n\" id=\"DejaVuSans-108\"/>\n     </defs>\n     <use xlink:href=\"#DejaVuSans-108\"/>\n     <use x=\"27.783203\" xlink:href=\"#DejaVuSans-111\"/>\n     <use x=\"88.964844\" xlink:href=\"#DejaVuSans-115\"/>\n     <use x=\"141.064453\" xlink:href=\"#DejaVuSans-115\"/>\n    </g>\n   </g>\n   <g id=\"legend_1\">\n    <g id=\"patch_7\">\n     <path d=\"M 352.42017 59.674375 \nL 407.69517 59.674375 \nQ 409.69517 59.674375 409.69517 57.674375 \nL 409.69517 29.318125 \nQ 409.69517 27.318125 407.69517 27.318125 \nL 352.42017 27.318125 \nQ 350.42017 27.318125 350.42017 29.318125 \nL 350.42017 57.674375 \nQ 350.42017 59.674375 352.42017 59.674375 \nz\n\" style=\"fill:#ffffff;opacity:0.8;stroke:#cccccc;stroke-linejoin:miter;\"/>\n    </g>\n    <g id=\"line2d_19\">\n     <path d=\"M 354.42017 35.416562 \nL 374.42017 35.416562 \n\" style=\"fill:none;stroke:#1f77b4;stroke-linecap:square;stroke-width:1.5;\"/>\n    </g>\n    <g id=\"line2d_20\"/>\n    <g id=\"text_20\">\n     <!-- train -->\n     <g transform=\"translate(382.42017 38.916562)scale(0.1 -0.1)\">\n      <defs>\n       <path d=\"M 18.3125 70.21875 \nL 18.3125 54.6875 \nL 36.8125 54.6875 \nL 36.8125 47.703125 \nL 18.3125 47.703125 \nL 18.3125 18.015625 \nQ 18.3125 11.328125 20.140625 9.421875 \nQ 21.96875 7.515625 27.59375 7.515625 \nL 36.8125 7.515625 \nL 36.8125 0 \nL 27.59375 0 \nQ 17.1875 0 13.234375 3.875 \nQ 9.28125 7.765625 9.28125 18.015625 \nL 9.28125 47.703125 \nL 2.6875 47.703125 \nL 2.6875 54.6875 \nL 9.28125 54.6875 \nL 9.28125 70.21875 \nz\n\" id=\"DejaVuSans-116\"/>\n       <path d=\"M 41.109375 46.296875 \nQ 39.59375 47.171875 37.8125 47.578125 \nQ 36.03125 48 33.890625 48 \nQ 26.265625 48 22.1875 43.046875 \nQ 18.109375 38.09375 18.109375 28.8125 \nL 18.109375 0 \nL 9.078125 0 \nL 9.078125 54.6875 \nL 18.109375 54.6875 \nL 18.109375 46.1875 \nQ 20.953125 51.171875 25.484375 53.578125 \nQ 30.03125 56 36.53125 56 \nQ 37.453125 56 38.578125 55.875 \nQ 39.703125 55.765625 41.0625 55.515625 \nz\n\" id=\"DejaVuSans-114\"/>\n       <path d=\"M 34.28125 27.484375 \nQ 23.390625 27.484375 19.1875 25 \nQ 14.984375 22.515625 14.984375 16.5 \nQ 14.984375 11.71875 18.140625 8.90625 \nQ 21.296875 6.109375 26.703125 6.109375 \nQ 34.1875 6.109375 38.703125 11.40625 \nQ 43.21875 16.703125 43.21875 25.484375 \nL 43.21875 27.484375 \nz\nM 52.203125 31.203125 \nL 52.203125 0 \nL 43.21875 0 \nL 43.21875 8.296875 \nQ 40.140625 3.328125 35.546875 0.953125 \nQ 30.953125 -1.421875 24.3125 -1.421875 \nQ 15.921875 -1.421875 10.953125 3.296875 \nQ 6 8.015625 6 15.921875 \nQ 6 25.140625 12.171875 29.828125 \nQ 18.359375 34.515625 30.609375 34.515625 \nL 43.21875 34.515625 \nL 43.21875 35.40625 \nQ 43.21875 41.609375 39.140625 45 \nQ 35.0625 48.390625 27.6875 48.390625 \nQ 23 48.390625 18.546875 47.265625 \nQ 14.109375 46.140625 10.015625 43.890625 \nL 10.015625 52.203125 \nQ 14.9375 54.109375 19.578125 55.046875 \nQ 24.21875 56 28.609375 56 \nQ 40.484375 56 46.34375 49.84375 \nQ 52.203125 43.703125 52.203125 31.203125 \nz\n\" id=\"DejaVuSans-97\"/>\n       <path d=\"M 9.421875 54.6875 \nL 18.40625 54.6875 \nL 18.40625 0 \nL 9.421875 0 \nz\nM 9.421875 75.984375 \nL 18.40625 75.984375 \nL 18.40625 64.59375 \nL 9.421875 64.59375 \nz\n\" id=\"DejaVuSans-105\"/>\n       <path d=\"M 54.890625 33.015625 \nL 54.890625 0 \nL 45.90625 0 \nL 45.90625 32.71875 \nQ 45.90625 40.484375 42.875 44.328125 \nQ 39.84375 48.1875 33.796875 48.1875 \nQ 26.515625 48.1875 22.3125 43.546875 \nQ 18.109375 38.921875 18.109375 30.90625 \nL 18.109375 0 \nL 9.078125 0 \nL 9.078125 54.6875 \nL 18.109375 54.6875 \nL 18.109375 46.1875 \nQ 21.34375 51.125 25.703125 53.5625 \nQ 30.078125 56 35.796875 56 \nQ 45.21875 56 50.046875 50.171875 \nQ 54.890625 44.34375 54.890625 33.015625 \nz\n\" id=\"DejaVuSans-110\"/>\n      </defs>\n      <use xlink:href=\"#DejaVuSans-116\"/>\n      <use x=\"39.208984\" xlink:href=\"#DejaVuSans-114\"/>\n      <use x=\"80.322266\" xlink:href=\"#DejaVuSans-97\"/>\n      <use x=\"141.601562\" xlink:href=\"#DejaVuSans-105\"/>\n      <use x=\"169.384766\" xlink:href=\"#DejaVuSans-110\"/>\n     </g>\n    </g>\n    <g id=\"line2d_21\">\n     <path d=\"M 354.42017 50.094688 \nL 374.42017 50.094688 \n\" style=\"fill:none;stroke:#ff7f0e;stroke-linecap:square;stroke-width:1.5;\"/>\n    </g>\n    <g id=\"line2d_22\"/>\n    <g id=\"text_21\">\n     <!-- val -->\n     <g transform=\"translate(382.42017 53.594688)scale(0.1 -0.1)\">\n      <defs>\n       <path d=\"M 2.984375 54.6875 \nL 12.5 54.6875 \nL 29.59375 8.796875 \nL 46.6875 54.6875 \nL 56.203125 54.6875 \nL 35.6875 0 \nL 23.484375 0 \nz\n\" id=\"DejaVuSans-118\"/>\n      </defs>\n      <use xlink:href=\"#DejaVuSans-118\"/>\n      <use x=\"59.179688\" xlink:href=\"#DejaVuSans-97\"/>\n      <use x=\"120.458984\" xlink:href=\"#DejaVuSans-108\"/>\n     </g>\n    </g>\n   </g>\n  </g>\n  <g id=\"axes_2\">\n   <g id=\"patch_8\">\n    <path d=\"M 490.78608 294.118125 \nL 871.240625 294.118125 \nL 871.240625 22.318125 \nL 490.78608 22.318125 \nz\n\" style=\"fill:#ffffff;\"/>\n   </g>\n   <g id=\"matplotlib.axis_3\">\n    <g id=\"xtick_10\">\n     <g id=\"line2d_23\">\n      <g>\n       <use style=\"stroke:#000000;stroke-width:0.8;\" x=\"508.079468\" xlink:href=\"#mdd325a81fe\" y=\"294.118125\"/>\n      </g>\n     </g>\n     <g id=\"text_22\">\n      <!-- 0 -->\n      <g transform=\"translate(504.898218 308.716563)scale(0.1 -0.1)\">\n       <use xlink:href=\"#DejaVuSans-48\"/>\n      </g>\n     </g>\n    </g>\n    <g id=\"xtick_11\">\n     <g id=\"line2d_24\">\n      <g>\n       <use style=\"stroke:#000000;stroke-width:0.8;\" x=\"552.42149\" xlink:href=\"#mdd325a81fe\" y=\"294.118125\"/>\n      </g>\n     </g>\n     <g id=\"text_23\">\n      <!-- 5 -->\n      <g transform=\"translate(549.24024 308.716563)scale(0.1 -0.1)\">\n       <use xlink:href=\"#DejaVuSans-53\"/>\n      </g>\n     </g>\n    </g>\n    <g id=\"xtick_12\">\n     <g id=\"line2d_25\">\n      <g>\n       <use style=\"stroke:#000000;stroke-width:0.8;\" x=\"596.763511\" xlink:href=\"#mdd325a81fe\" y=\"294.118125\"/>\n      </g>\n     </g>\n     <g id=\"text_24\">\n      <!-- 10 -->\n      <g transform=\"translate(590.401011 308.716563)scale(0.1 -0.1)\">\n       <use xlink:href=\"#DejaVuSans-49\"/>\n       <use x=\"63.623047\" xlink:href=\"#DejaVuSans-48\"/>\n      </g>\n     </g>\n    </g>\n    <g id=\"xtick_13\">\n     <g id=\"line2d_26\">\n      <g>\n       <use style=\"stroke:#000000;stroke-width:0.8;\" x=\"641.105533\" xlink:href=\"#mdd325a81fe\" y=\"294.118125\"/>\n      </g>\n     </g>\n     <g id=\"text_25\">\n      <!-- 15 -->\n      <g transform=\"translate(634.743033 308.716563)scale(0.1 -0.1)\">\n       <use xlink:href=\"#DejaVuSans-49\"/>\n       <use x=\"63.623047\" xlink:href=\"#DejaVuSans-53\"/>\n      </g>\n     </g>\n    </g>\n    <g id=\"xtick_14\">\n     <g id=\"line2d_27\">\n      <g>\n       <use style=\"stroke:#000000;stroke-width:0.8;\" x=\"685.447554\" xlink:href=\"#mdd325a81fe\" y=\"294.118125\"/>\n      </g>\n     </g>\n     <g id=\"text_26\">\n      <!-- 20 -->\n      <g transform=\"translate(679.085054 308.716563)scale(0.1 -0.1)\">\n       <use xlink:href=\"#DejaVuSans-50\"/>\n       <use x=\"63.623047\" xlink:href=\"#DejaVuSans-48\"/>\n      </g>\n     </g>\n    </g>\n    <g id=\"xtick_15\">\n     <g id=\"line2d_28\">\n      <g>\n       <use style=\"stroke:#000000;stroke-width:0.8;\" x=\"729.789576\" xlink:href=\"#mdd325a81fe\" y=\"294.118125\"/>\n      </g>\n     </g>\n     <g id=\"text_27\">\n      <!-- 25 -->\n      <g transform=\"translate(723.427076 308.716563)scale(0.1 -0.1)\">\n       <use xlink:href=\"#DejaVuSans-50\"/>\n       <use x=\"63.623047\" xlink:href=\"#DejaVuSans-53\"/>\n      </g>\n     </g>\n    </g>\n    <g id=\"xtick_16\">\n     <g id=\"line2d_29\">\n      <g>\n       <use style=\"stroke:#000000;stroke-width:0.8;\" x=\"774.131598\" xlink:href=\"#mdd325a81fe\" y=\"294.118125\"/>\n      </g>\n     </g>\n     <g id=\"text_28\">\n      <!-- 30 -->\n      <g transform=\"translate(767.769098 308.716563)scale(0.1 -0.1)\">\n       <use xlink:href=\"#DejaVuSans-51\"/>\n       <use x=\"63.623047\" xlink:href=\"#DejaVuSans-48\"/>\n      </g>\n     </g>\n    </g>\n    <g id=\"xtick_17\">\n     <g id=\"line2d_30\">\n      <g>\n       <use style=\"stroke:#000000;stroke-width:0.8;\" x=\"818.473619\" xlink:href=\"#mdd325a81fe\" y=\"294.118125\"/>\n      </g>\n     </g>\n     <g id=\"text_29\">\n      <!-- 35 -->\n      <g transform=\"translate(812.111119 308.716563)scale(0.1 -0.1)\">\n       <use xlink:href=\"#DejaVuSans-51\"/>\n       <use x=\"63.623047\" xlink:href=\"#DejaVuSans-53\"/>\n      </g>\n     </g>\n    </g>\n    <g id=\"xtick_18\">\n     <g id=\"line2d_31\">\n      <g>\n       <use style=\"stroke:#000000;stroke-width:0.8;\" x=\"862.815641\" xlink:href=\"#mdd325a81fe\" y=\"294.118125\"/>\n      </g>\n     </g>\n     <g id=\"text_30\">\n      <!-- 40 -->\n      <g transform=\"translate(856.453141 308.716563)scale(0.1 -0.1)\">\n       <use xlink:href=\"#DejaVuSans-52\"/>\n       <use x=\"63.623047\" xlink:href=\"#DejaVuSans-48\"/>\n      </g>\n     </g>\n    </g>\n    <g id=\"text_31\">\n     <!-- Epoch -->\n     <g transform=\"translate(665.702415 322.394687)scale(0.1 -0.1)\">\n      <use xlink:href=\"#DejaVuSans-69\"/>\n      <use x=\"63.183594\" xlink:href=\"#DejaVuSans-112\"/>\n      <use x=\"126.660156\" xlink:href=\"#DejaVuSans-111\"/>\n      <use x=\"187.841797\" xlink:href=\"#DejaVuSans-99\"/>\n      <use x=\"242.822266\" xlink:href=\"#DejaVuSans-104\"/>\n     </g>\n    </g>\n   </g>\n   <g id=\"matplotlib.axis_4\">\n    <g id=\"ytick_8\">\n     <g id=\"line2d_32\">\n      <g>\n       <use style=\"stroke:#000000;stroke-width:0.8;\" x=\"490.78608\" xlink:href=\"#ma19e2fcb2b\" y=\"284.894361\"/>\n      </g>\n     </g>\n     <g id=\"text_32\">\n      <!-- 0.0 -->\n      <g transform=\"translate(467.882955 288.69358)scale(0.1 -0.1)\">\n       <defs>\n        <path d=\"M 10.6875 12.40625 \nL 21 12.40625 \nL 21 0 \nL 10.6875 0 \nz\n\" id=\"DejaVuSans-46\"/>\n       </defs>\n       <use xlink:href=\"#DejaVuSans-48\"/>\n       <use x=\"63.623047\" xlink:href=\"#DejaVuSans-46\"/>\n       <use x=\"95.410156\" xlink:href=\"#DejaVuSans-48\"/>\n      </g>\n     </g>\n    </g>\n    <g id=\"ytick_9\">\n     <g id=\"line2d_33\">\n      <g>\n       <use style=\"stroke:#000000;stroke-width:0.8;\" x=\"490.78608\" xlink:href=\"#ma19e2fcb2b\" y=\"234.561028\"/>\n      </g>\n     </g>\n     <g id=\"text_33\">\n      <!-- 0.2 -->\n      <g transform=\"translate(467.882955 238.360246)scale(0.1 -0.1)\">\n       <use xlink:href=\"#DejaVuSans-48\"/>\n       <use x=\"63.623047\" xlink:href=\"#DejaVuSans-46\"/>\n       <use x=\"95.410156\" xlink:href=\"#DejaVuSans-50\"/>\n      </g>\n     </g>\n    </g>\n    <g id=\"ytick_10\">\n     <g id=\"line2d_34\">\n      <g>\n       <use style=\"stroke:#000000;stroke-width:0.8;\" x=\"490.78608\" xlink:href=\"#ma19e2fcb2b\" y=\"184.227694\"/>\n      </g>\n     </g>\n     <g id=\"text_34\">\n      <!-- 0.4 -->\n      <g transform=\"translate(467.882955 188.026913)scale(0.1 -0.1)\">\n       <use xlink:href=\"#DejaVuSans-48\"/>\n       <use x=\"63.623047\" xlink:href=\"#DejaVuSans-46\"/>\n       <use x=\"95.410156\" xlink:href=\"#DejaVuSans-52\"/>\n      </g>\n     </g>\n    </g>\n    <g id=\"ytick_11\">\n     <g id=\"line2d_35\">\n      <g>\n       <use style=\"stroke:#000000;stroke-width:0.8;\" x=\"490.78608\" xlink:href=\"#ma19e2fcb2b\" y=\"133.894361\"/>\n      </g>\n     </g>\n     <g id=\"text_35\">\n      <!-- 0.6 -->\n      <g transform=\"translate(467.882955 137.69358)scale(0.1 -0.1)\">\n       <use xlink:href=\"#DejaVuSans-48\"/>\n       <use x=\"63.623047\" xlink:href=\"#DejaVuSans-46\"/>\n       <use x=\"95.410156\" xlink:href=\"#DejaVuSans-54\"/>\n      </g>\n     </g>\n    </g>\n    <g id=\"ytick_12\">\n     <g id=\"line2d_36\">\n      <g>\n       <use style=\"stroke:#000000;stroke-width:0.8;\" x=\"490.78608\" xlink:href=\"#ma19e2fcb2b\" y=\"83.561028\"/>\n      </g>\n     </g>\n     <g id=\"text_36\">\n      <!-- 0.8 -->\n      <g transform=\"translate(467.882955 87.360246)scale(0.1 -0.1)\">\n       <defs>\n        <path d=\"M 31.78125 34.625 \nQ 24.75 34.625 20.71875 30.859375 \nQ 16.703125 27.09375 16.703125 20.515625 \nQ 16.703125 13.921875 20.71875 10.15625 \nQ 24.75 6.390625 31.78125 6.390625 \nQ 38.8125 6.390625 42.859375 10.171875 \nQ 46.921875 13.96875 46.921875 20.515625 \nQ 46.921875 27.09375 42.890625 30.859375 \nQ 38.875 34.625 31.78125 34.625 \nz\nM 21.921875 38.8125 \nQ 15.578125 40.375 12.03125 44.71875 \nQ 8.5 49.078125 8.5 55.328125 \nQ 8.5 64.0625 14.71875 69.140625 \nQ 20.953125 74.21875 31.78125 74.21875 \nQ 42.671875 74.21875 48.875 69.140625 \nQ 55.078125 64.0625 55.078125 55.328125 \nQ 55.078125 49.078125 51.53125 44.71875 \nQ 48 40.375 41.703125 38.8125 \nQ 48.828125 37.15625 52.796875 32.3125 \nQ 56.78125 27.484375 56.78125 20.515625 \nQ 56.78125 9.90625 50.3125 4.234375 \nQ 43.84375 -1.421875 31.78125 -1.421875 \nQ 19.734375 -1.421875 13.25 4.234375 \nQ 6.78125 9.90625 6.78125 20.515625 \nQ 6.78125 27.484375 10.78125 32.3125 \nQ 14.796875 37.15625 21.921875 38.8125 \nz\nM 18.3125 54.390625 \nQ 18.3125 48.734375 21.84375 45.5625 \nQ 25.390625 42.390625 31.78125 42.390625 \nQ 38.140625 42.390625 41.71875 45.5625 \nQ 45.3125 48.734375 45.3125 54.390625 \nQ 45.3125 60.0625 41.71875 63.234375 \nQ 38.140625 66.40625 31.78125 66.40625 \nQ 25.390625 66.40625 21.84375 63.234375 \nQ 18.3125 60.0625 18.3125 54.390625 \nz\n\" id=\"DejaVuSans-56\"/>\n       </defs>\n       <use xlink:href=\"#DejaVuSans-48\"/>\n       <use x=\"63.623047\" xlink:href=\"#DejaVuSans-46\"/>\n       <use x=\"95.410156\" xlink:href=\"#DejaVuSans-56\"/>\n      </g>\n     </g>\n    </g>\n    <g id=\"ytick_13\">\n     <g id=\"line2d_37\">\n      <g>\n       <use style=\"stroke:#000000;stroke-width:0.8;\" x=\"490.78608\" xlink:href=\"#ma19e2fcb2b\" y=\"33.227694\"/>\n      </g>\n     </g>\n     <g id=\"text_37\">\n      <!-- 1.0 -->\n      <g transform=\"translate(467.882955 37.026913)scale(0.1 -0.1)\">\n       <use xlink:href=\"#DejaVuSans-49\"/>\n       <use x=\"63.623047\" xlink:href=\"#DejaVuSans-46\"/>\n       <use x=\"95.410156\" xlink:href=\"#DejaVuSans-48\"/>\n      </g>\n     </g>\n    </g>\n    <g id=\"text_38\">\n     <!-- Accuracy -->\n     <g transform=\"translate(461.803267 181.04625)rotate(-90)scale(0.1 -0.1)\">\n      <defs>\n       <path d=\"M 34.1875 63.1875 \nL 20.796875 26.90625 \nL 47.609375 26.90625 \nz\nM 28.609375 72.90625 \nL 39.796875 72.90625 \nL 67.578125 0 \nL 57.328125 0 \nL 50.6875 18.703125 \nL 17.828125 18.703125 \nL 11.1875 0 \nL 0.78125 0 \nz\n\" id=\"DejaVuSans-65\"/>\n       <path d=\"M 8.5 21.578125 \nL 8.5 54.6875 \nL 17.484375 54.6875 \nL 17.484375 21.921875 \nQ 17.484375 14.15625 20.5 10.265625 \nQ 23.53125 6.390625 29.59375 6.390625 \nQ 36.859375 6.390625 41.078125 11.03125 \nQ 45.3125 15.671875 45.3125 23.6875 \nL 45.3125 54.6875 \nL 54.296875 54.6875 \nL 54.296875 0 \nL 45.3125 0 \nL 45.3125 8.40625 \nQ 42.046875 3.421875 37.71875 1 \nQ 33.40625 -1.421875 27.6875 -1.421875 \nQ 18.265625 -1.421875 13.375 4.4375 \nQ 8.5 10.296875 8.5 21.578125 \nz\nM 31.109375 56 \nz\n\" id=\"DejaVuSans-117\"/>\n       <path d=\"M 32.171875 -5.078125 \nQ 28.375 -14.84375 24.75 -17.8125 \nQ 21.140625 -20.796875 15.09375 -20.796875 \nL 7.90625 -20.796875 \nL 7.90625 -13.28125 \nL 13.1875 -13.28125 \nQ 16.890625 -13.28125 18.9375 -11.515625 \nQ 21 -9.765625 23.484375 -3.21875 \nL 25.09375 0.875 \nL 2.984375 54.6875 \nL 12.5 54.6875 \nL 29.59375 11.921875 \nL 46.6875 54.6875 \nL 56.203125 54.6875 \nz\n\" id=\"DejaVuSans-121\"/>\n      </defs>\n      <use xlink:href=\"#DejaVuSans-65\"/>\n      <use x=\"66.658203\" xlink:href=\"#DejaVuSans-99\"/>\n      <use x=\"121.638672\" xlink:href=\"#DejaVuSans-99\"/>\n      <use x=\"176.619141\" xlink:href=\"#DejaVuSans-117\"/>\n      <use x=\"239.998047\" xlink:href=\"#DejaVuSans-114\"/>\n      <use x=\"281.111328\" xlink:href=\"#DejaVuSans-97\"/>\n      <use x=\"342.390625\" xlink:href=\"#DejaVuSans-99\"/>\n      <use x=\"397.371094\" xlink:href=\"#DejaVuSans-121\"/>\n     </g>\n    </g>\n   </g>\n   <g id=\"line2d_38\">\n    <path clip-path=\"url(#p7c6a6c4c10)\" d=\"M 508.079468 281.76358 \nL 516.947872 270.68543 \nL 525.816277 254.790693 \nL 534.684681 228.058635 \nL 543.553085 200.60409 \nL 552.42149 183.505206 \nL 561.289894 157.495637 \nL 570.158298 135.098508 \nL 579.026703 123.29787 \nL 587.895107 108.36645 \nL 596.763511 94.157519 \nL 605.631916 78.98527 \nL 614.50032 78.98527 \nL 623.368724 65.739656 \nL 632.237128 64.535509 \nL 641.105533 58.273946 \nL 649.973937 56.82897 \nL 658.842341 51.289895 \nL 667.710746 46.473308 \nL 676.57915 48.399943 \nL 685.447554 41.897551 \nL 694.315959 41.656721 \nL 703.184363 40.934233 \nL 712.052767 41.175063 \nL 720.921172 40.452575 \nL 729.789576 38.044281 \nL 738.65798 38.285111 \nL 747.526385 35.876817 \nL 756.394789 37.803452 \nL 765.263193 38.285111 \nL 774.131598 37.803452 \nL 783.000002 36.599305 \nL 791.868406 35.395158 \nL 800.736811 37.080964 \nL 809.605215 35.876817 \nL 818.473619 35.876817 \nL 827.342024 36.117647 \nL 836.210428 34.9135 \nL 845.078832 34.9135 \nL 853.947237 34.67267 \n\" style=\"fill:none;stroke:#1f77b4;stroke-linecap:square;stroke-width:1.5;\"/>\n   </g>\n   <g id=\"line2d_39\">\n    <path clip-path=\"url(#p7c6a6c4c10)\" d=\"M 508.079468 277.209883 \nL 516.947872 270.485964 \nL 525.816277 259.919806 \nL 534.684681 256.077567 \nL 543.553085 255.117007 \nL 552.42149 253.195888 \nL 561.289894 243.59029 \nL 570.158298 241.66917 \nL 579.026703 237.826931 \nL 587.895107 241.66917 \nL 596.763511 235.905811 \nL 605.631916 236.866371 \nL 614.50032 228.221333 \nL 623.368724 224.379094 \nL 632.237128 224.379094 \nL 641.105533 228.221333 \nL 649.973937 224.379094 \nL 658.842341 226.300213 \nL 667.710746 227.260773 \nL 676.57915 225.339654 \nL 685.447554 225.339654 \nL 694.315959 224.379094 \nL 703.184363 219.576295 \nL 712.052767 227.260773 \nL 720.921172 230.142453 \nL 729.789576 222.457974 \nL 738.65798 227.260773 \nL 747.526385 219.576295 \nL 756.394789 215.734056 \nL 765.263193 219.576295 \nL 774.131598 221.497414 \nL 783.000002 228.221333 \nL 791.868406 225.339654 \nL 800.736811 221.497414 \nL 809.605215 226.300213 \nL 818.473619 228.221333 \nL 827.342024 224.379094 \nL 836.210428 226.300213 \nL 845.078832 220.536855 \nL 853.947237 212.852376 \n\" style=\"fill:none;stroke:#ff7f0e;stroke-linecap:square;stroke-width:1.5;\"/>\n   </g>\n   <g id=\"patch_9\">\n    <path d=\"M 490.78608 294.118125 \nL 490.78608 22.318125 \n\" style=\"fill:none;stroke:#000000;stroke-linecap:square;stroke-linejoin:miter;stroke-width:0.8;\"/>\n   </g>\n   <g id=\"patch_10\">\n    <path d=\"M 871.240625 294.118125 \nL 871.240625 22.318125 \n\" style=\"fill:none;stroke:#000000;stroke-linecap:square;stroke-linejoin:miter;stroke-width:0.8;\"/>\n   </g>\n   <g id=\"patch_11\">\n    <path d=\"M 490.78608 294.118125 \nL 871.240625 294.118125 \n\" style=\"fill:none;stroke:#000000;stroke-linecap:square;stroke-linejoin:miter;stroke-width:0.8;\"/>\n   </g>\n   <g id=\"patch_12\">\n    <path d=\"M 490.78608 22.318125 \nL 871.240625 22.318125 \n\" style=\"fill:none;stroke:#000000;stroke-linecap:square;stroke-linejoin:miter;stroke-width:0.8;\"/>\n   </g>\n   <g id=\"text_39\">\n    <!-- acc -->\n    <g transform=\"translate(670.738352 16.318125)scale(0.12 -0.12)\">\n     <use xlink:href=\"#DejaVuSans-97\"/>\n     <use x=\"61.279297\" xlink:href=\"#DejaVuSans-99\"/>\n     <use x=\"116.259766\" xlink:href=\"#DejaVuSans-99\"/>\n    </g>\n   </g>\n   <g id=\"legend_2\">\n    <g id=\"patch_13\">\n     <path d=\"M 497.78608 59.674375 \nL 553.06108 59.674375 \nQ 555.06108 59.674375 555.06108 57.674375 \nL 555.06108 29.318125 \nQ 555.06108 27.318125 553.06108 27.318125 \nL 497.78608 27.318125 \nQ 495.78608 27.318125 495.78608 29.318125 \nL 495.78608 57.674375 \nQ 495.78608 59.674375 497.78608 59.674375 \nz\n\" style=\"fill:#ffffff;opacity:0.8;stroke:#cccccc;stroke-linejoin:miter;\"/>\n    </g>\n    <g id=\"line2d_40\">\n     <path d=\"M 499.78608 35.416562 \nL 519.78608 35.416562 \n\" style=\"fill:none;stroke:#1f77b4;stroke-linecap:square;stroke-width:1.5;\"/>\n    </g>\n    <g id=\"line2d_41\"/>\n    <g id=\"text_40\">\n     <!-- train -->\n     <g transform=\"translate(527.78608 38.916562)scale(0.1 -0.1)\">\n      <use xlink:href=\"#DejaVuSans-116\"/>\n      <use x=\"39.208984\" xlink:href=\"#DejaVuSans-114\"/>\n      <use x=\"80.322266\" xlink:href=\"#DejaVuSans-97\"/>\n      <use x=\"141.601562\" xlink:href=\"#DejaVuSans-105\"/>\n      <use x=\"169.384766\" xlink:href=\"#DejaVuSans-110\"/>\n     </g>\n    </g>\n    <g id=\"line2d_42\">\n     <path d=\"M 499.78608 50.094688 \nL 519.78608 50.094688 \n\" style=\"fill:none;stroke:#ff7f0e;stroke-linecap:square;stroke-width:1.5;\"/>\n    </g>\n    <g id=\"line2d_43\"/>\n    <g id=\"text_41\">\n     <!-- val -->\n     <g transform=\"translate(527.78608 53.594688)scale(0.1 -0.1)\">\n      <use xlink:href=\"#DejaVuSans-118\"/>\n      <use x=\"59.179688\" xlink:href=\"#DejaVuSans-97\"/>\n      <use x=\"120.458984\" xlink:href=\"#DejaVuSans-108\"/>\n     </g>\n    </g>\n   </g>\n  </g>\n </g>\n <defs>\n  <clipPath id=\"pf72333774d\">\n   <rect height=\"271.8\" width=\"380.454545\" x=\"34.240625\" y=\"22.318125\"/>\n  </clipPath>\n  <clipPath id=\"p7c6a6c4c10\">\n   <rect height=\"271.8\" width=\"380.454545\" x=\"490.78608\" y=\"22.318125\"/>\n  </clipPath>\n </defs>\n</svg>\n",
      "image/png": "[encoded data removed]"
     },
     "metadata": {
      "needs_background": "light"
     }
    }
   ],
   "source": [
    "fig, axes = plt.subplots(1, 2, figsize=[15,5], sharex=False, sharey=False)\n",
    "axes[0].set_ylabel(\"Loss\")\n",
    "axes[1].set_ylabel(\"Accuracy\")\n",
    "\n",
    "plotnum = 0\n",
    "\n",
    "phase = [\"train\", \"val\"]\n",
    "for s in [\"loss\", \"acc\"]:\n",
    "    for a in phase:\n",
    "        axes[plotnum].set_title(s)\n",
    "        axes[plotnum].set_xlabel(\"Epoch\")\n",
    "        axes[plotnum].plot(np.mean(history[a+'_'+s], axis=0))\n",
    "        axes[plotnum].legend(phase)\n",
    "    plotnum += 1\n",
    "print(history, \"direct_\"+fname, EDIBILITY)\n",
    "ed = \"ed_\" if EDIBILITY else \"\"\n",
    "save_history_data(history, \"direct_\"+ed+fname, edibility=EDIBILITY, num_folds=num_folds)"
   ]
  },
  {
   "cell_type": "markdown",
   "metadata": {},
   "source": [
    "## Train on all the data"
   ]
  },
  {
   "cell_type": "code",
   "execution_count": 8,
   "metadata": {},
   "outputs": [
    {
     "output_type": "stream",
     "name": "stdout",
     "text": [
      "Training model on:  cuda\n",
      "Iter: 0\n",
      "train Loss: 5.8596 Acc: 0.0145\n",
      "Iter: 1\n",
      "val Loss: 5.1222 Acc: 0.0303\n",
      "Iter: 2\n",
      "train Loss: 4.6551 Acc: 0.0528\n",
      "Iter: 3\n",
      "val Loss: 4.8488 Acc: 0.0535\n",
      "Iter: 4\n",
      "train Loss: 4.0831 Acc: 0.1262\n",
      "Iter: 5\n",
      "val Loss: 4.6453 Acc: 0.0713\n",
      "Iter: 6\n",
      "train Loss: 3.5832 Acc: 0.2196\n",
      "Iter: 7\n",
      "val Loss: 4.5095 Acc: 0.0945\n",
      "Iter: 8\n",
      "train Loss: 3.1511 Acc: 0.2999\n",
      "Iter: 9\n",
      "val Loss: 4.3702 Acc: 0.1301\n",
      "Iter: 10\n",
      "train Loss: 2.7598 Acc: 0.4124\n",
      "Iter: 11\n",
      "val Loss: 4.2743 Acc: 0.1462\n",
      "Iter: 12\n",
      "train Loss: 2.4127 Acc: 0.5011\n",
      "Iter: 13\n",
      "val Loss: 4.1933 Acc: 0.1622\n",
      "Iter: 14\n",
      "train Loss: 2.1673 Acc: 0.5669\n",
      "Iter: 15\n",
      "val Loss: 4.1543 Acc: 0.1693\n",
      "Iter: 16\n",
      "train Loss: 1.9071 Acc: 0.6358\n",
      "Iter: 17\n",
      "val Loss: 4.1143 Acc: 0.1747\n",
      "Iter: 18\n",
      "train Loss: 1.6695 Acc: 0.6855\n",
      "Iter: 19\n",
      "val Loss: 4.1078 Acc: 0.1783\n",
      "Iter: 20\n",
      "train Loss: 1.5087 Acc: 0.7261\n",
      "Iter: 21\n",
      "val Loss: 4.0407 Acc: 0.1907\n",
      "Iter: 22\n",
      "train Loss: 1.3317 Acc: 0.7682\n",
      "Iter: 23\n",
      "val Loss: 4.0625 Acc: 0.1996\n",
      "Iter: 24\n",
      "train Loss: 1.1681 Acc: 0.8125\n",
      "Iter: 25\n",
      "val Loss: 4.0828 Acc: 0.1996\n",
      "Iter: 26\n",
      "train Loss: 1.0474 Acc: 0.8378\n",
      "Iter: 27\n",
      "val Loss: 4.0578 Acc: 0.2050\n",
      "Iter: 28\n",
      "train Loss: 0.9359 Acc: 0.8546\n",
      "Iter: 29\n",
      "val Loss: 4.0823 Acc: 0.1961\n"
     ]
    }
   ],
   "source": [
    "if FINAL:\n",
    "    model = modified_googlenet()\n",
    "    if EDIBILITY:\n",
    "        optimizer = optim.RMSprop(\n",
    "            model.parameters(),\n",
    "            lr=5e-4,\n",
    "            momentum=0.4,\n",
    "            alpha=0.99\n",
    "            )\n",
    "    else:\n",
    "        optimizer = optim.RMSprop(\n",
    "            model.parameters(),\n",
    "            lr=1e-3,\n",
    "            momentum=0.4,\n",
    "            alpha=0.99\n",
    "            )\n",
    "        if fname == \"bolete.h5\":\n",
    "            num_epochs = 15\n",
    "        else:\n",
    "            num_epochs = 7\n",
    "    \n",
    "    dataloader_tr = get_loader(X_train, Y_train, batch_size)\n",
    "    dataloader_val = get_loader(X_test, Y_test, batch_size)\n",
    "    dataloaders = {\"train\":dataloader_tr, \"val\":dataloader_val}\n",
    "    train_acc_history, train_loss_history, val_acc_history, val_loss_history = train_model(\n",
    "        model,\n",
    "        optimizer,\n",
    "        dataloaders,\n",
    "        loss_fn,\n",
    "        pred_fn,\n",
    "        num_epochs,\n",
    "        num_classes=1,\n",
    "        show_every=1,\n",
    "        device=device,\n",
    "        dtype=dtype,\n",
    "    )"
   ]
  },
  {
   "cell_type": "code",
   "execution_count": 9,
   "metadata": {},
   "outputs": [
    {
     "output_type": "stream",
     "name": "stdout",
     "text": [
      "history_data/direct_final_bolete.h5_history.csv\n"
     ]
    }
   ],
   "source": [
    "if FINAL:\n",
    "    final_history = {\n",
    "        \"train_acc\": [train_acc_history],\n",
    "        \"train_loss\": [train_loss_history],\n",
    "        \"val_acc\": [val_acc_history],\n",
    "        \"val_loss\": [val_loss_history],\n",
    "    }\n",
    "    ed = \"ed_\" if EDIBILITY else \"\"\n",
    "    save_history_data(final_history, \"direct_\"+ed+\"final_\"+fname, edibility=EDIBILITY, num_folds=1)"
   ]
  },
  {
   "cell_type": "markdown",
   "metadata": {},
   "source": [
    "## Evaluate "
   ]
  },
  {
   "cell_type": "code",
   "execution_count": 10,
   "metadata": {},
   "outputs": [
    {
     "output_type": "stream",
     "name": "stdout",
     "text": [
      "Evaluating model on:  cuda\n"
     ]
    }
   ],
   "source": [
    "if FINAL:\n",
    "    X, Y, y = X_test, Y_test, y_test\n",
    "else:\n",
    "    X, Y, y = get_val(X_train, Y_train, y_train)\n",
    "\n",
    "scores, y_pred, y_true, y_labels = evaluate(\n",
    "    X,  # images\n",
    "    Y,  # output\n",
    "    y,  # labels\n",
    "    model,\n",
    "    out_dim=M,\n",
    "    pred_fn=pred_fn,\n",
    "    device=device,\n",
    "    transform=None,\n",
    ")\n",
    "if EDIBILITY:\n",
    "    save_raw_eval_data(scores, y_pred, y_true, y_labels, \"direct_ed_\"+fname)\n",
    "else:\n",
    "    save_raw_eval_data(scores, y_pred, y_true, y_labels, \"direct_\"+fname)"
   ]
  },
  {
   "cell_type": "markdown",
   "metadata": {},
   "source": [
    "### Check status of GPU Memory for Debugging Purposes"
   ]
  },
  {
   "cell_type": "code",
   "execution_count": 11,
   "metadata": {
    "tags": []
   },
   "outputs": [
    {
     "output_type": "stream",
     "name": "stdout",
     "text": [
      "<class 'torch.Tensor'> torch.Size([])\n<class 'torch.Tensor'> torch.Size([])\n<class 'torch.Tensor'> torch.Size([])\n<class 'torch.Tensor'> torch.Size([])\n<class 'torch.Tensor'> torch.Size([])\n<class 'torch.Tensor'> torch.Size([])\n<class 'torch.Tensor'> torch.Size([])\n<class 'torch.Tensor'> torch.Size([])\n<class 'torch.Tensor'> torch.Size([])\n<class 'torch.Tensor'> torch.Size([])\n<class 'torch.Tensor'> torch.Size([])\n<class 'torch.Tensor'> torch.Size([])\n<class 'torch.Tensor'> torch.Size([])\n<class 'torch.Tensor'> torch.Size([])\n<class 'torch.Tensor'> torch.Size([])\n<class 'torch.Tensor'> torch.Size([])\n<class 'torch.Tensor'> torch.Size([])\n<class 'torch.Tensor'> torch.Size([])\n<class 'torch.Tensor'> torch.Size([])\n<class 'torch.Tensor'> torch.Size([])\n<class 'torch.Tensor'> torch.Size([])\n<class 'torch.Tensor'> torch.Size([])\n<class 'torch.Tensor'> torch.Size([])\n<class 'torch.Tensor'> torch.Size([])\n<class 'torch.Tensor'> torch.Size([])\n<class 'torch.Tensor'> torch.Size([])\n<class 'torch.Tensor'> torch.Size([])\n<class 'torch.Tensor'> torch.Size([])\n<class 'torch.Tensor'> torch.Size([])\n<class 'torch.Tensor'> torch.Size([])\n<class 'torch.Tensor'> torch.Size([])\n<class 'torch.Tensor'> torch.Size([])\n<class 'torch.Tensor'> torch.Size([])\n<class 'torch.Tensor'> torch.Size([])\n<class 'torch.Tensor'> torch.Size([])\n<class 'torch.Tensor'> torch.Size([])\n<class 'torch.Tensor'> torch.Size([])\n<class 'torch.Tensor'> torch.Size([])\n<class 'torch.Tensor'> torch.Size([])\n<class 'torch.Tensor'> torch.Size([])\n<class 'torch.Tensor'> torch.Size([])\n<class 'torch.Tensor'> torch.Size([])\n<class 'torch.Tensor'> torch.Size([])\n<class 'torch.Tensor'> torch.Size([])\n<class 'torch.Tensor'> torch.Size([])\n<class 'torch.Tensor'> torch.Size([])\n<class 'torch.Tensor'> torch.Size([])\n<class 'torch.Tensor'> torch.Size([])\n<class 'torch.Tensor'> torch.Size([])\n<class 'torch.Tensor'> torch.Size([])\n<class 'torch.Tensor'> torch.Size([])\n<class 'torch.Tensor'> torch.Size([])\n<class 'torch.Tensor'> torch.Size([])\n<class 'torch.Tensor'> torch.Size([])\n<class 'torch.Tensor'> torch.Size([])\n<class 'torch.Tensor'> torch.Size([])\n<class 'torch.Tensor'> torch.Size([])\n<class 'torch.nn.parameter.Parameter'> torch.Size([64, 3, 7, 7])\n<class 'torch.nn.parameter.Parameter'> torch.Size([64])\n<class 'torch.nn.parameter.Parameter'> torch.Size([64])\n<class 'torch.nn.parameter.Parameter'> torch.Size([64, 64, 1, 1])\n<class 'torch.nn.parameter.Parameter'> torch.Size([64])\n<class 'torch.nn.parameter.Parameter'> torch.Size([64])\n<class 'torch.nn.parameter.Parameter'> torch.Size([192, 64, 3, 3])\n<class 'torch.nn.parameter.Parameter'> torch.Size([192])\n<class 'torch.nn.parameter.Parameter'> torch.Size([192])\n<class 'torch.nn.parameter.Parameter'> torch.Size([64, 192, 1, 1])\n<class 'torch.nn.parameter.Parameter'> torch.Size([64])\n<class 'torch.nn.parameter.Parameter'> torch.Size([64])\n<class 'torch.nn.parameter.Parameter'> torch.Size([128, 256, 1, 1])\n<class 'torch.nn.parameter.Parameter'> torch.Size([128])\n<class 'torch.nn.parameter.Parameter'> torch.Size([128])\n<class 'torch.nn.parameter.Parameter'> torch.Size([96, 192, 1, 1])\n<class 'torch.nn.parameter.Parameter'> torch.Size([96])\n<class 'torch.nn.parameter.Parameter'> torch.Size([96])\n<class 'torch.nn.parameter.Parameter'> torch.Size([128, 96, 3, 3])\n<class 'torch.nn.parameter.Parameter'> torch.Size([128])\n<class 'torch.nn.parameter.Parameter'> torch.Size([128])\n<class 'torch.nn.parameter.Parameter'> torch.Size([16, 192, 1, 1])\n<class 'torch.nn.parameter.Parameter'> torch.Size([16])\n<class 'torch.nn.parameter.Parameter'> torch.Size([16])\n<class 'torch.nn.parameter.Parameter'> torch.Size([32, 16, 3, 3])\n<class 'torch.nn.parameter.Parameter'> torch.Size([32])\n<class 'torch.nn.parameter.Parameter'> torch.Size([32])\n<class 'torch.nn.parameter.Parameter'> torch.Size([32, 192, 1, 1])\n<class 'torch.nn.parameter.Parameter'> torch.Size([32])\n<class 'torch.nn.parameter.Parameter'> torch.Size([32])\n<class 'torch.nn.parameter.Parameter'> torch.Size([128, 256, 1, 1])\n<class 'torch.nn.parameter.Parameter'> torch.Size([128])\n<class 'torch.nn.parameter.Parameter'> torch.Size([128])\n<class 'torch.nn.parameter.Parameter'> torch.Size([192, 128, 3, 3])\n<class 'torch.nn.parameter.Parameter'> torch.Size([192])\n<class 'torch.nn.parameter.Parameter'> torch.Size([192])\n<class 'torch.nn.parameter.Parameter'> torch.Size([32, 256, 1, 1])\n<class 'torch.nn.parameter.Parameter'> torch.Size([32])\n<class 'torch.nn.parameter.Parameter'> torch.Size([32])\n<class 'torch.nn.parameter.Parameter'> torch.Size([96, 32, 3, 3])\n<class 'torch.nn.parameter.Parameter'> torch.Size([96])\n<class 'torch.nn.parameter.Parameter'> torch.Size([96])\n<class 'torch.nn.parameter.Parameter'> torch.Size([64, 256, 1, 1])\n<class 'torch.nn.parameter.Parameter'> torch.Size([64])\n<class 'torch.nn.parameter.Parameter'> torch.Size([64])\n<class 'torch.nn.parameter.Parameter'> torch.Size([192, 480, 1, 1])\n<class 'torch.nn.parameter.Parameter'> torch.Size([192])\n<class 'torch.nn.parameter.Parameter'> torch.Size([192])\n<class 'torch.nn.parameter.Parameter'> torch.Size([160, 512, 1, 1])\n<class 'torch.nn.parameter.Parameter'> torch.Size([160])\n<class 'torch.nn.parameter.Parameter'> torch.Size([160])\n<class 'torch.nn.parameter.Parameter'> torch.Size([128, 512, 1, 1])\n<class 'torch.nn.parameter.Parameter'> torch.Size([128])\n<class 'torch.nn.parameter.Parameter'> torch.Size([128])\n<class 'torch.nn.parameter.Parameter'> torch.Size([96, 480, 1, 1])\n<class 'torch.nn.parameter.Parameter'> torch.Size([96])\n<class 'torch.nn.parameter.Parameter'> torch.Size([96])\n<class 'torch.nn.parameter.Parameter'> torch.Size([208, 96, 3, 3])\n<class 'torch.nn.parameter.Parameter'> torch.Size([208])\n<class 'torch.nn.parameter.Parameter'> torch.Size([208])\n<class 'torch.nn.parameter.Parameter'> torch.Size([16, 480, 1, 1])\n<class 'torch.nn.parameter.Parameter'> torch.Size([16])\n<class 'torch.nn.parameter.Parameter'> torch.Size([16])\n<class 'torch.nn.parameter.Parameter'> torch.Size([48, 16, 3, 3])\n<class 'torch.nn.parameter.Parameter'> torch.Size([48])\n<class 'torch.nn.parameter.Parameter'> torch.Size([48])\n<class 'torch.nn.parameter.Parameter'> torch.Size([64, 480, 1, 1])\n<class 'torch.nn.parameter.Parameter'> torch.Size([64])\n<class 'torch.nn.parameter.Parameter'> torch.Size([64])\n<class 'torch.nn.parameter.Parameter'> torch.Size([112, 512, 1, 1])\n<class 'torch.nn.parameter.Parameter'> torch.Size([112])\n<class 'torch.nn.parameter.Parameter'> torch.Size([112])\n<class 'torch.nn.parameter.Parameter'> torch.Size([224, 112, 3, 3])\n<class 'torch.nn.parameter.Parameter'> torch.Size([224])\n<class 'torch.nn.parameter.Parameter'> torch.Size([224])\n<class 'torch.nn.parameter.Parameter'> torch.Size([24, 512, 1, 1])\n<class 'torch.nn.parameter.Parameter'> torch.Size([24])\n<class 'torch.nn.parameter.Parameter'> torch.Size([24])\n<class 'torch.nn.parameter.Parameter'> torch.Size([64, 24, 3, 3])\n<class 'torch.nn.parameter.Parameter'> torch.Size([64])\n<class 'torch.nn.parameter.Parameter'> torch.Size([64])\n<class 'torch.nn.parameter.Parameter'> torch.Size([64, 512, 1, 1])\n<class 'torch.nn.parameter.Parameter'> torch.Size([64])\n<class 'torch.nn.parameter.Parameter'> torch.Size([64])\n<class 'torch.nn.parameter.Parameter'> torch.Size([112, 512, 1, 1])\n<class 'torch.nn.parameter.Parameter'> torch.Size([112])\n<class 'torch.nn.parameter.Parameter'> torch.Size([112])\n<class 'torch.nn.parameter.Parameter'> torch.Size([256, 528, 1, 1])\n<class 'torch.nn.parameter.Parameter'> torch.Size([256])\n<class 'torch.nn.parameter.Parameter'> torch.Size([256])\n<class 'torch.nn.parameter.Parameter'> torch.Size([24, 512, 1, 1])\n<class 'torch.nn.parameter.Parameter'> torch.Size([24])\n<class 'torch.nn.parameter.Parameter'> torch.Size([24])\n<class 'torch.nn.parameter.Parameter'> torch.Size([64, 24, 3, 3])\n<class 'torch.nn.parameter.Parameter'> torch.Size([64])\n<class 'torch.nn.parameter.Parameter'> torch.Size([64])\n<class 'torch.nn.parameter.Parameter'> torch.Size([64, 512, 1, 1])\n<class 'torch.nn.parameter.Parameter'> torch.Size([64])\n<class 'torch.nn.parameter.Parameter'> torch.Size([64])\n<class 'torch.nn.parameter.Parameter'> torch.Size([144, 512, 1, 1])\n<class 'torch.nn.parameter.Parameter'> torch.Size([144])\n<class 'torch.nn.parameter.Parameter'> torch.Size([144])\n<class 'torch.nn.parameter.Parameter'> torch.Size([288, 144, 3, 3])\n<class 'torch.nn.parameter.Parameter'> torch.Size([288])\n<class 'torch.nn.parameter.Parameter'> torch.Size([288])\n<class 'torch.nn.parameter.Parameter'> torch.Size([32, 512, 1, 1])\n<class 'torch.nn.parameter.Parameter'> torch.Size([32])\n<class 'torch.nn.parameter.Parameter'> torch.Size([32])\n<class 'torch.nn.parameter.Parameter'> torch.Size([64, 32, 3, 3])\n<class 'torch.nn.parameter.Parameter'> torch.Size([64])\n<class 'torch.nn.parameter.Parameter'> torch.Size([64])\n<class 'torch.nn.parameter.Parameter'> torch.Size([64, 512, 1, 1])\n<class 'torch.nn.parameter.Parameter'> torch.Size([64])\n<class 'torch.nn.parameter.Parameter'> torch.Size([64])\n<class 'torch.nn.parameter.Parameter'> torch.Size([160, 528, 1, 1])\n<class 'torch.nn.parameter.Parameter'> torch.Size([160])\n<class 'torch.nn.parameter.Parameter'> torch.Size([160])\n<class 'torch.nn.parameter.Parameter'> torch.Size([320, 160, 3, 3])\n<class 'torch.nn.parameter.Parameter'> torch.Size([320])\n<class 'torch.nn.parameter.Parameter'> torch.Size([320])\n<class 'torch.nn.parameter.Parameter'> torch.Size([32, 528, 1, 1])\n<class 'torch.nn.parameter.Parameter'> torch.Size([32])\n<class 'torch.nn.parameter.Parameter'> torch.Size([32])\n<class 'torch.nn.parameter.Parameter'> torch.Size([128, 32, 3, 3])\n<class 'torch.nn.parameter.Parameter'> torch.Size([128])\n<class 'torch.nn.parameter.Parameter'> torch.Size([128])\n<class 'torch.nn.parameter.Parameter'> torch.Size([256, 832, 1, 1])\n<class 'torch.nn.parameter.Parameter'> torch.Size([256])\n<class 'torch.nn.parameter.Parameter'> torch.Size([256])\n<class 'torch.nn.parameter.Parameter'> torch.Size([384, 832, 1, 1])\n<class 'torch.nn.parameter.Parameter'> torch.Size([384])\n<class 'torch.nn.parameter.Parameter'> torch.Size([384])\n<class 'torch.nn.parameter.Parameter'> torch.Size([128, 528, 1, 1])\n<class 'torch.nn.parameter.Parameter'> torch.Size([128])\n<class 'torch.nn.parameter.Parameter'> torch.Size([128])\n<class 'torch.nn.parameter.Parameter'> torch.Size([160, 832, 1, 1])\n<class 'torch.nn.parameter.Parameter'> torch.Size([160])\n<class 'torch.nn.parameter.Parameter'> torch.Size([160])\n<class 'torch.nn.parameter.Parameter'> torch.Size([320, 160, 3, 3])\n<class 'torch.nn.parameter.Parameter'> torch.Size([320])\n<class 'torch.nn.parameter.Parameter'> torch.Size([320])\n<class 'torch.nn.parameter.Parameter'> torch.Size([32, 832, 1, 1])\n<class 'torch.nn.parameter.Parameter'> torch.Size([32])\n<class 'torch.nn.parameter.Parameter'> torch.Size([32])\n<class 'torch.nn.parameter.Parameter'> torch.Size([128, 32, 3, 3])\n<class 'torch.nn.parameter.Parameter'> torch.Size([128])\n<class 'torch.nn.parameter.Parameter'> torch.Size([128])\n<class 'torch.nn.parameter.Parameter'> torch.Size([128, 832, 1, 1])\n<class 'torch.nn.parameter.Parameter'> torch.Size([128])\n<class 'torch.nn.parameter.Parameter'> torch.Size([128])\n<class 'torch.nn.parameter.Parameter'> torch.Size([192, 832, 1, 1])\n<class 'torch.nn.parameter.Parameter'> torch.Size([192])\n<class 'torch.nn.parameter.Parameter'> torch.Size([192])\n<class 'torch.nn.parameter.Parameter'> torch.Size([384, 192, 3, 3])\n<class 'torch.nn.parameter.Parameter'> torch.Size([384])\n<class 'torch.nn.parameter.Parameter'> torch.Size([384])\n<class 'torch.nn.parameter.Parameter'> torch.Size([48, 832, 1, 1])\n<class 'torch.nn.parameter.Parameter'> torch.Size([48])\n<class 'torch.nn.parameter.Parameter'> torch.Size([48])\n<class 'torch.nn.parameter.Parameter'> torch.Size([128, 48, 3, 3])\n<class 'torch.nn.parameter.Parameter'> torch.Size([128])\n<class 'torch.nn.parameter.Parameter'> torch.Size([128])\n<class 'torch.nn.parameter.Parameter'> torch.Size([128, 832, 1, 1])\n<class 'torch.nn.parameter.Parameter'> torch.Size([128])\n<class 'torch.nn.parameter.Parameter'> torch.Size([128])\n<class 'torch.Tensor'> torch.Size([64])\n<class 'torch.Tensor'> torch.Size([64])\n<class 'torch.Tensor'> torch.Size([64])\n<class 'torch.Tensor'> torch.Size([64])\n<class 'torch.Tensor'> torch.Size([192])\n<class 'torch.Tensor'> torch.Size([192])\n<class 'torch.Tensor'> torch.Size([64])\n<class 'torch.Tensor'> torch.Size([64])\n<class 'torch.Tensor'> torch.Size([96])\n<class 'torch.Tensor'> torch.Size([96])\n<class 'torch.Tensor'> torch.Size([128])\n<class 'torch.Tensor'> torch.Size([128])\n<class 'torch.Tensor'> torch.Size([16])\n<class 'torch.Tensor'> torch.Size([16])\n<class 'torch.Tensor'> torch.Size([32])\n<class 'torch.Tensor'> torch.Size([32])\n<class 'torch.Tensor'> torch.Size([32])\n<class 'torch.Tensor'> torch.Size([32])\n<class 'torch.Tensor'> torch.Size([128])\n<class 'torch.Tensor'> torch.Size([128])\n<class 'torch.Tensor'> torch.Size([128])\n<class 'torch.Tensor'> torch.Size([128])\n<class 'torch.Tensor'> torch.Size([192])\n<class 'torch.Tensor'> torch.Size([192])\n<class 'torch.Tensor'> torch.Size([32])\n<class 'torch.Tensor'> torch.Size([32])\n<class 'torch.Tensor'> torch.Size([96])\n<class 'torch.Tensor'> torch.Size([96])\n<class 'torch.Tensor'> torch.Size([64])\n<class 'torch.Tensor'> torch.Size([64])\n<class 'torch.Tensor'> torch.Size([192])\n<class 'torch.Tensor'> torch.Size([192])\n<class 'torch.Tensor'> torch.Size([96])\n<class 'torch.Tensor'> torch.Size([96])\n<class 'torch.Tensor'> torch.Size([208])\n<class 'torch.Tensor'> torch.Size([208])\n<class 'torch.Tensor'> torch.Size([16])\n<class 'torch.Tensor'> torch.Size([16])\n<class 'torch.Tensor'> torch.Size([48])\n<class 'torch.Tensor'> torch.Size([48])\n<class 'torch.Tensor'> torch.Size([64])\n<class 'torch.Tensor'> torch.Size([64])\n<class 'torch.Tensor'> torch.Size([160])\n<class 'torch.Tensor'> torch.Size([160])\n<class 'torch.Tensor'> torch.Size([112])\n<class 'torch.Tensor'> torch.Size([112])\n<class 'torch.Tensor'> torch.Size([224])\n<class 'torch.Tensor'> torch.Size([224])\n<class 'torch.Tensor'> torch.Size([24])\n<class 'torch.Tensor'> torch.Size([24])\n<class 'torch.Tensor'> torch.Size([64])\n<class 'torch.Tensor'> torch.Size([64])\n<class 'torch.Tensor'> torch.Size([64])\n<class 'torch.Tensor'> torch.Size([64])\n<class 'torch.Tensor'> torch.Size([128])\n<class 'torch.Tensor'> torch.Size([128])\n<class 'torch.Tensor'> torch.Size([24])\n<class 'torch.Tensor'> torch.Size([24])\n<class 'torch.Tensor'> torch.Size([64])\n<class 'torch.Tensor'> torch.Size([64])\n<class 'torch.Tensor'> torch.Size([64])\n<class 'torch.Tensor'> torch.Size([64])\n<class 'torch.Tensor'> torch.Size([112])\n<class 'torch.Tensor'> torch.Size([112])\n<class 'torch.Tensor'> torch.Size([144])\n<class 'torch.Tensor'> torch.Size([144])\n<class 'torch.Tensor'> torch.Size([288])\n<class 'torch.Tensor'> torch.Size([288])\n<class 'torch.Tensor'> torch.Size([32])\n<class 'torch.Tensor'> torch.Size([32])\n<class 'torch.Tensor'> torch.Size([64])\n<class 'torch.Tensor'> torch.Size([64])\n<class 'torch.Tensor'> torch.Size([64])\n<class 'torch.Tensor'> torch.Size([64])\n<class 'torch.Tensor'> torch.Size([256])\n<class 'torch.Tensor'> torch.Size([256])\n<class 'torch.Tensor'> torch.Size([160])\n<class 'torch.Tensor'> torch.Size([160])\n<class 'torch.Tensor'> torch.Size([320])\n<class 'torch.Tensor'> torch.Size([320])\n<class 'torch.Tensor'> torch.Size([32])\n<class 'torch.Tensor'> torch.Size([32])\n<class 'torch.Tensor'> torch.Size([128])\n<class 'torch.Tensor'> torch.Size([128])\n<class 'torch.Tensor'> torch.Size([128])\n<class 'torch.Tensor'> torch.Size([128])\n<class 'torch.Tensor'> torch.Size([256])\n<class 'torch.Tensor'> torch.Size([256])\n<class 'torch.Tensor'> torch.Size([160])\n<class 'torch.Tensor'> torch.Size([160])\n<class 'torch.Tensor'> torch.Size([320])\n<class 'torch.Tensor'> torch.Size([320])\n<class 'torch.Tensor'> torch.Size([32])\n<class 'torch.Tensor'> torch.Size([32])\n<class 'torch.Tensor'> torch.Size([128])\n<class 'torch.Tensor'> torch.Size([128])\n<class 'torch.Tensor'> torch.Size([128])\n<class 'torch.Tensor'> torch.Size([128])\n<class 'torch.Tensor'> torch.Size([384])\n<class 'torch.Tensor'> torch.Size([384])\n<class 'torch.Tensor'> torch.Size([192])\n<class 'torch.Tensor'> torch.Size([192])\n<class 'torch.Tensor'> torch.Size([384])\n<class 'torch.Tensor'> torch.Size([384])\n<class 'torch.Tensor'> torch.Size([48])\n<class 'torch.Tensor'> torch.Size([48])\n<class 'torch.Tensor'> torch.Size([128])\n<class 'torch.Tensor'> torch.Size([128])\n<class 'torch.Tensor'> torch.Size([128])\n<class 'torch.Tensor'> torch.Size([128])\n<class 'torch.nn.parameter.Parameter'> torch.Size([172])\n<class 'torch.nn.parameter.Parameter'> torch.Size([172, 1024])\n<class 'torch.Tensor'> torch.Size([172, 1024])\n<class 'torch.Tensor'> torch.Size([172])\n<class 'torch.Tensor'> torch.Size([172, 1024])\n<class 'torch.Tensor'> torch.Size([172])\n<class 'torch.nn.parameter.Parameter'> torch.Size([256])\n<class 'torch.nn.parameter.Parameter'> torch.Size([256])\n<class 'torch.nn.parameter.Parameter'> torch.Size([256, 128, 3, 3])\n<class 'torch.nn.parameter.Parameter'> torch.Size([128])\n<class 'torch.nn.parameter.Parameter'> torch.Size([128])\n<class 'torch.nn.parameter.Parameter'> torch.Size([128, 512, 1, 1])\n<class 'torch.Tensor'> torch.Size([128])\n<class 'torch.Tensor'> torch.Size([128])\n<class 'torch.Tensor'> torch.Size([256])\n<class 'torch.Tensor'> torch.Size([256])\n"
     ]
    }
   ],
   "source": [
    "import torch\n",
    "import gc\n",
    "for obj in gc.get_objects():\n",
    "    try:\n",
    "        if torch.is_tensor(obj) or (hasattr(obj, 'data') and torch.is_tensor(obj.data)):\n",
    "            print(type(obj), obj.size())\n",
    "    except:\n",
    "        pass"
   ]
  }
 ],
 "metadata": {
  "kernelspec": {
   "display_name": "Python 3.6.12 64-bit ('cs682': conda)",
   "language": "python",
   "name": "python361264bitcs682conda6c2838d37f0541629036f4dfbc2777db"
  },
  "language_info": {
   "codemirror_mode": {
    "name": "ipython",
    "version": 3
   },
   "file_extension": ".py",
   "mimetype": "text/x-python",
   "name": "python",
   "nbconvert_exporter": "python",
   "pygments_lexer": "ipython3",
   "version": "3.6.12-final"
  }
 },
 "nbformat": 4,
 "nbformat_minor": 2
}