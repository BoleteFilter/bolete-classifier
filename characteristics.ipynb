{
 "cells": [
  {
   "cell_type": "markdown",
   "metadata": {},
   "source": [
    "## Setup"
   ]
  },
  {
   "cell_type": "code",
   "execution_count": 1,
   "metadata": {},
   "outputs": [
    {
     "name": "stdout",
     "output_type": "stream",
     "text": [
      "use cuda =  True\n",
      "using device: cuda\n"
     ]
    }
   ],
   "source": [
    "import numpy as np\n",
    "import torch\n",
    "from torchvision import models\n",
    "import torch.optim as optim\n",
    "import torch.nn as nn\n",
    "import torchvision.transforms as T\n",
    "\n",
    "\n",
    "from sklearn.model_selection import StratifiedShuffleSplit\n",
    "import matplotlib.pyplot as plt\n",
    "\n",
    "from train import *\n",
    "from data_utils import *\n",
    "\n",
    "%load_ext autoreload\n",
    "%autoreload 2\n",
    "\n",
    "USE_GPU = True\n",
    "dtype = torch.float32\n",
    "\n",
    "if USE_GPU and torch.cuda.is_available():\n",
    "    device = torch.device('cuda')\n",
    "else:\n",
    "    device = torch.device('cpu')\n",
    "\n",
    "torch.backends.cudnn.benchmark = True\n",
    "\n",
    "print('use cuda = ', torch.cuda.is_available())\n",
    "print('using device:', device)"
   ]
  },
  {
   "cell_type": "code",
   "execution_count": 2,
   "metadata": {},
   "outputs": [
    {
     "name": "stdout",
     "output_type": "stream",
     "text": [
      "ItemsViewHDF5(<HDF5 file \"bolete.h5\" (mode r)>)\n"
     ]
    }
   ],
   "source": [
    "## Load the data\n",
    "data = load_bolete_data()"
   ]
  },
  {
   "cell_type": "code",
   "execution_count": 3,
   "metadata": {},
   "outputs": [],
   "source": [
    "# Get Train and Test Split\n",
    "X_train, X_test, Y_train, Y_test, y_train, y_test = get_train_and_test(data, 'bolete-characteristics')\n"
   ]
  },
  {
   "cell_type": "code",
   "execution_count": 18,
   "metadata": {},
   "outputs": [],
   "source": [
    "## Download pretrained model(s)\n",
    "# model = models.googlenet(pretrained=True)\n",
    "model = models.resnext101_32x8d(pretrained=True)\n",
    "# model = models.alexnet(pretrained=True)"
   ]
  },
  {
   "cell_type": "markdown",
   "metadata": {},
   "source": [
    "## Transfer Learn with cross validation\n"
   ]
  },
  {
   "cell_type": "code",
   "execution_count": 19,
   "metadata": {
    "tags": []
   },
   "outputs": [
    {
     "name": "stdout",
     "output_type": "stream",
     "text": [
      "CV model on:  cuda\n",
      "CV Fold:  1\n",
      "Training model on:  cuda\n",
      "Iter: 0\n",
      "train Loss: 0.7218 Acc: 25.2463\n",
      "Iter: 1\n",
      "val Loss: 0.6859 Acc: 25.3636\n",
      "Iter: 2\n",
      "train Loss: 0.5900 Acc: 26.5743\n",
      "Iter: 3\n",
      "val Loss: 0.6767 Acc: 25.5401\n",
      "Iter: 4\n",
      "train Loss: 0.5687 Acc: 27.0469\n",
      "Iter: 5\n",
      "val Loss: 0.7330 Acc: 23.8610\n",
      "Iter: 6\n",
      "train Loss: 0.5614 Acc: 27.0910\n",
      "Iter: 7\n",
      "val Loss: 0.6852 Acc: 25.6898\n",
      "Iter: 8\n",
      "train Loss: 0.5480 Acc: 27.5529\n",
      "Iter: 9\n",
      "val Loss: 0.6605 Acc: 25.7005\n",
      "Iter: 10\n",
      "train Loss: 0.5322 Acc: 27.7831\n",
      "Iter: 11\n",
      "val Loss: 0.6763 Acc: 25.1711\n",
      "Iter: 12\n",
      "train Loss: 0.5301 Acc: 27.7671\n",
      "Iter: 13\n",
      "val Loss: 0.6412 Acc: 25.6898\n",
      "Iter: 14\n",
      "train Loss: 0.5220 Acc: 28.0924\n",
      "Iter: 15\n",
      "val Loss: 0.6084 Acc: 26.3422\n",
      "Iter: 16\n",
      "train Loss: 0.5157 Acc: 28.2155\n",
      "Iter: 17\n",
      "val Loss: 0.6343 Acc: 25.7166\n",
      "Iter: 18\n",
      "train Loss: 0.5122 Acc: 28.3173\n",
      "Iter: 19\n",
      "val Loss: 0.6732 Acc: 25.3369\n",
      "Iter: 20\n",
      "train Loss: 0.5066 Acc: 28.4418\n",
      "Iter: 21\n",
      "val Loss: 0.6679 Acc: 24.8075\n",
      "Iter: 22\n",
      "train Loss: 0.5101 Acc: 28.3253\n",
      "Iter: 23\n",
      "val Loss: 0.6116 Acc: 26.4866\n",
      "Iter: 24\n",
      "train Loss: 0.4924 Acc: 28.7510\n",
      "Iter: 25\n",
      "val Loss: 0.6474 Acc: 26.1123\n",
      "Iter: 26\n",
      "train Loss: 0.4954 Acc: 28.7001\n",
      "Iter: 27\n",
      "val Loss: 0.6307 Acc: 26.5401\n",
      "Iter: 28\n",
      "train Loss: 0.4876 Acc: 28.8434\n",
      "Iter: 29\n",
      "val Loss: 0.6891 Acc: 24.8770\n",
      "Iter: 30\n",
      "train Loss: 0.4827 Acc: 28.9826\n",
      "Iter: 31\n",
      "val Loss: 0.6374 Acc: 26.2406\n",
      "Iter: 32\n",
      "train Loss: 0.4791 Acc: 29.0857\n",
      "Iter: 33\n",
      "val Loss: 0.6367 Acc: 26.2032\n",
      "Iter: 34\n",
      "train Loss: 0.4803 Acc: 29.0281\n",
      "Iter: 35\n",
      "val Loss: 0.6654 Acc: 25.7861\n",
      "Iter: 36\n",
      "train Loss: 0.4761 Acc: 29.1673\n",
      "Iter: 37\n",
      "val Loss: 0.6210 Acc: 26.7754\n",
      "Iter: 38\n",
      "train Loss: 0.4668 Acc: 29.3534\n",
      "Iter: 39\n",
      "val Loss: 0.6367 Acc: 26.0963\n",
      "Iter: 40\n",
      "train Loss: 0.4726 Acc: 29.2209\n",
      "Iter: 41\n",
      "val Loss: 0.6651 Acc: 25.9412\n",
      "Iter: 42\n",
      "train Loss: 0.4661 Acc: 29.2999\n",
      "Iter: 43\n",
      "val Loss: 0.6579 Acc: 26.4545\n",
      "Iter: 44\n",
      "train Loss: 0.4687 Acc: 29.3414\n",
      "Iter: 45\n",
      "val Loss: 0.7004 Acc: 26.0107\n",
      "Iter: 46\n",
      "train Loss: 0.4583 Acc: 29.5529\n",
      "Iter: 47\n",
      "val Loss: 0.6821 Acc: 25.3583\n",
      "Iter: 48\n",
      "train Loss: 0.4572 Acc: 29.5221\n",
      "Iter: 49\n",
      "val Loss: 0.6832 Acc: 25.4118\n"
     ]
    }
   ],
   "source": [
    "def loss_fn(scores, true_y):\n",
    "    probs = torch.sigmoid(scores)\n",
    "    if_true = true_y * torch.log(probs)\n",
    "    if_false = (1-true_y) * torch.log(1 - probs)\n",
    "    loss = -1 * torch.sum(if_true + if_false)\n",
    "    return loss\n",
    "\n",
    "def pred_fn(scores):\n",
    "    outputs = torch.sigmoid(scores)\n",
    "    preds = outputs > 0.5\n",
    "    return preds\n",
    "\n",
    "num_classes = Y_train.shape[1]\n",
    "\n",
    "for param in model.parameters():\n",
    "    param.requires_grad = False\n",
    " \n",
    "fc_in_feats = model.fc.in_features\n",
    "model.fc = nn.Linear(fc_in_feats, num_classes)\n",
    "\n",
    "# optimizer = optim.Adam(model.fc.parameters(), betas=(.5, .999), lr=1e-2)\n",
    "\n",
    "\n",
    "optimizer = optim.RMSprop(\n",
    "    model.parameters(),\n",
    "    lr=1e-3,\n",
    "    momentum=0.4,\n",
    "    alpha=0.99\n",
    "    )\n",
    "\n",
    "transform = T.Compose([T.ToTensor()])\n",
    "\n",
    "# print(model)\n",
    "batch_size = 8\n",
    "num_epochs = 25\n",
    "\n",
    "torch.manual_seed(0)\n",
    "history = cross_val(\n",
    "    X_train, \n",
    "    Y_train,\n",
    "    y_train,\n",
    "    model, \n",
    "    optimizer, \n",
    "    nn.MultiLabelSoftMarginLoss(), \n",
    "    pred_fn,\n",
    "    batch_size = batch_size, \n",
    "    num_epochs = num_epochs,\n",
    "    show_every = 1,\n",
    "    folds=1,\n",
    "    test_size=0.2,\n",
    "    device=device,\n",
    "    dtype=dtype,\n",
    "    transform = transform,\n",
    ")"
   ]
  },
  {
   "cell_type": "code",
   "execution_count": 20,
   "metadata": {},
   "outputs": [
    {
     "data": {
      "image/png": "[encoded data removed]",
      "text/plain": [
       "<Figure size 1080x360 with 2 Axes>"
      ]
     },
     "metadata": {
      "needs_background": "light"
     },
     "output_type": "display_data"
    }
   ],
   "source": [
    "fig, axes = plt.subplots(1, 2, figsize=[15,5], sharex=False, sharey=False)\n",
    "axes[0].set_ylabel(\"Loss\")\n",
    "axes[1].set_ylabel(\"Accuracy\")\n",
    "\n",
    "plotnum = 0\n",
    "for a in [\"train\", \"val\"]:\n",
    "    # ax1 = fig.add_subplot(120 + plotnum)\n",
    "    axes[plotnum].set_title(a)\n",
    "    axes[plotnum].set_xlabel(\"Epoch\")\n",
    "    for i in range(len(history[a])):\n",
    "        axes[plotnum].plot(history[a][i])\n",
    "    plotnum += 1"
   ]
  },
  {
   "cell_type": "markdown",
   "metadata": {},
   "source": [
    "## Train on all the data"
   ]
  },
  {
   "cell_type": "code",
   "execution_count": 7,
   "metadata": {},
   "outputs": [
    {
     "name": "stdout",
     "output_type": "stream",
     "text": [
      "Training model on:  cuda\n",
      "Iter: 0\n",
      "train Loss: 178.9479 Acc: 26.4968\n",
      "Iter: 1\n",
      "train Loss: 168.3244 Acc: 27.2195\n",
      "Iter: 2\n",
      "train Loss: 166.3810 Acc: 27.3126\n"
     ]
    },
    {
     "data": {
      "text/plain": [
       "([178.9478744082073, 168.32440440404594, 166.38095952101386], [])"
      ]
     },
     "execution_count": 7,
     "metadata": {},
     "output_type": "execute_result"
    }
   ],
   "source": [
    "dataloader = get_loader(X_train, Y_train, batch_size, transform)\n",
    "dataloaders = {\"train\":dataloader}\n",
    "train_model(\n",
    "    model,\n",
    "    optimizer,\n",
    "    dataloaders,\n",
    "    loss_fn,\n",
    "    pred_fn,\n",
    "    num_epochs,\n",
    "    show_every=1,\n",
    "    device=device,\n",
    "    dtype=torch.float32,\n",
    "    phases=[\"train\"],\n",
    ")"
   ]
  },
  {
   "cell_type": "markdown",
   "metadata": {},
   "source": [
    "## Evaluate "
   ]
  },
  {
   "cell_type": "code",
   "execution_count": 21,
   "metadata": {},
   "outputs": [
    {
     "name": "stdout",
     "output_type": "stream",
     "text": [
      "Evaluating model on:  cuda\n"
     ]
    }
   ],
   "source": [
    "# X, Y, y = X_test, Y_test, y_test\n",
    "X, Y, y = get_val(X_train, Y_train, y_train) # place holder for real test data\n",
    "\n",
    "scores, y_pred, y_true, y_labels = evaluate(\n",
    "    X,  # images\n",
    "    Y,  # output\n",
    "    y,  # labels\n",
    "    model,\n",
    "    Y.shape[1],\n",
    "    pred_fn,\n",
    "    device=device,\n",
    "    transform=None,\n",
    ")"
   ]
  },
  {
   "cell_type": "markdown",
   "metadata": {},
   "source": [
    "### Save Evaluation Data"
   ]
  },
  {
   "cell_type": "code",
   "execution_count": 22,
   "metadata": {},
   "outputs": [
    {
     "data": {
      "text/plain": [
       "True"
      ]
     },
     "execution_count": 22,
     "metadata": {},
     "output_type": "execute_result"
    }
   ],
   "source": [
    "save_raw_eval_data(scores, y_pred, y_true, y_labels, \"characteristic_resnext_25\")"
   ]
  }
 ],
 "metadata": {
  "kernelspec": {
   "display_name": "Python 3.6.12 64-bit ('cs682': conda)",
   "language": "python",
   "name": "python361264bitcs682conda6c2838d37f0541629036f4dfbc2777db"
  },
  "language_info": {
   "codemirror_mode": {
    "name": "ipython",
    "version": 3
   },
   "file_extension": ".py",
   "mimetype": "text/x-python",
   "name": "python",
   "nbconvert_exporter": "python",
   "pygments_lexer": "ipython3",
   "version": "3.6.12"
  }
 },
 "nbformat": 4,
 "nbformat_minor": 2
}
