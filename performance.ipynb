{
 "metadata": {
  "language_info": {
   "codemirror_mode": {
    "name": "ipython",
    "version": 3
   },
   "file_extension": ".py",
   "mimetype": "text/x-python",
   "name": "python",
   "nbconvert_exporter": "python",
   "pygments_lexer": "ipython3",
   "version": "3.6.12-final"
  },
  "orig_nbformat": 2,
  "kernelspec": {
   "name": "python361264bitcs682conda6c2838d37f0541629036f4dfbc2777db",
   "display_name": "Python 3.6.12 64-bit ('cs682': conda)"
  }
 },
 "nbformat": 4,
 "nbformat_minor": 2,
 "cells": [
  {
   "cell_type": "code",
   "execution_count": 2,
   "metadata": {},
   "outputs": [],
   "source": [
    "%load_ext autoreload\n",
    "%autoreload 2"
   ]
  },
  {
   "source": [
    "# Compute Performance Data and Save for Plotting P-Charts"
   ],
   "cell_type": "markdown",
   "metadata": {}
  },
  {
   "cell_type": "code",
   "execution_count": 1,
   "metadata": {},
   "outputs": [
    {
     "output_type": "stream",
     "name": "stdout",
     "text": [
      "characteristic_bolete.h5\n",
      "direct_bolete_lowres.h5\n",
      "direct_bolete.h5\n",
      "characteristic_bolete_lowres.h5\n",
      "direct_ed_bolete_lowres.h5\n",
      "direct_ed_bolete.h5\n"
     ]
    }
   ],
   "source": [
    "%load_ext autoreload\n",
    "%autoreload 2\n",
    "\n",
    "import os\n",
    "from performance import compute_and_save_performance\n",
    "suffix = \"_true.csv\"\n",
    "for entry in os.listdir(\"evaluation_data\"):\n",
    "    if suffix in entry:\n",
    "        name = entry[:-len(suffix)]\n",
    "        print(name)\n",
    "        compute_and_save_performance(name)"
   ]
  },
  {
   "source": [
    "# Get baselines for p-charts\n",
    "## Random Performance"
   ],
   "cell_type": "markdown",
   "metadata": {}
  },
  {
   "cell_type": "code",
   "execution_count": 2,
   "metadata": {
    "tags": []
   },
   "outputs": [
    {
     "output_type": "stream",
     "name": "stdout",
     "text": [
      "The autoreload extension is already loaded. To reload it, use:\n",
      "  %reload_ext autoreload\n",
      "Direct:\n",
      "Species\n",
      "=====================================================================================================species done\n",
      "Edibility\n",
      "=====================================================================================================edibility done\n",
      "Characteristics:\n",
      "Species\n",
      "=====================================================================================================species done\n",
      "Edibility\n",
      "=====================================================================================================edibility done\n"
     ]
    }
   ],
   "source": [
    "%load_ext autoreload\n",
    "%autoreload 2\n",
    "\n",
    "from performance_driver import drive\n",
    "drive(100)"
   ]
  },
  {
   "source": [
    "## Perfect Species Performance"
   ],
   "cell_type": "markdown",
   "metadata": {}
  },
  {
   "cell_type": "code",
   "execution_count": 2,
   "metadata": {
    "tags": []
   },
   "outputs": [
    {
     "output_type": "stream",
     "name": "stdout",
     "text": [
      "Species\n",
      "=====================================================================================================done\n",
      "Edibility\n",
      "=====================================================================================================done\n"
     ]
    },
    {
     "output_type": "execute_result",
     "data": {
      "text/plain": [
       "True"
      ]
     },
     "metadata": {},
     "execution_count": 2
    }
   ],
   "source": [
    "from performance import perfect_performance\n",
    "print(\"Species\")\n",
    "perfect_performance(\"species\")\n",
    "print(\"Edibility\")\n",
    "perfect_performance(\"edibility\")"
   ]
  },
  {
   "source": [
    "## Compare tau hats"
   ],
   "cell_type": "markdown",
   "metadata": {}
  },
  {
   "cell_type": "code",
   "execution_count": 48,
   "metadata": {
    "tags": []
   },
   "outputs": [
    {
     "output_type": "stream",
     "name": "stdout",
     "text": [
      "========================================================================================================================================================================================================p vals =  [0.0, 0.01, 0.02, 0.03, 0.04, 0.05, 0.06, 0.07, 0.08, 0.09, 0.1, 0.11, 0.12, 0.13, 0.14, 0.15, 0.16, 0.17, 0.18, 0.19, 0.2, 0.21, 0.22, 0.23, 0.24, 0.25, 0.26, 0.27, 0.28, 0.29, 0.3, 0.31, 0.32, 0.33, 0.34, 0.35, 0.36, 0.37, 0.38, 0.39, 0.4, 0.41, 0.42, 0.43, 0.44, 0.45, 0.46, 0.47, 0.48, 0.49, 0.5, 0.51, 0.52, 0.53, 0.54, 0.55, 0.56, 0.57, 0.58, 0.59, 0.6, 0.61, 0.62, 0.63, 0.64, 0.65, 0.66, 0.67, 0.68, 0.69, 0.7, 0.71, 0.72, 0.73, 0.74, 0.75, 0.76, 0.77, 0.78, 0.79, 0.8, 0.81, 0.82, 0.83, 0.84, 0.85, 0.86, 0.87, 0.88, 0.89, 0.9, 0.91, 0.92, 0.93, 0.94, 0.95, 0.96, 0.97, 0.98, 0.99]\n",
      "sims =  [1.0, 1.0, 1.0, 1.0, 1.0, 1.0, 1.0, 1.0, 1.0, 1.0, 1.0, 1.0, 1.0, 0.99, 0.99, 0.99, 0.99, 0.99, 0.99, 0.99, 0.98, 0.98, 0.98, 0.98, 0.97, 0.97, 0.96, 0.95, 0.95, 0.93, 0.93, 0.91, 0.9, 0.9, 0.88, 0.88, 0.84, 0.84, 0.81, 0.79, 0.79, 0.76, 0.73, 0.7, 0.68, 0.67, 0.65, 0.61, 0.57, 0.57, 0.57, 0.49, 0.49, 0.45, 0.41, 0.39, 0.38, 0.35, 0.32, 0.29, 0.29, 0.26, 0.24, 0.21, 0.2, 0.18, 0.17, 0.15, 0.15, 0.13, 0.12, 0.11, 0.1, 0.09, 0.08, 0.08, 0.07, 0.05, 0.05, 0.04, 0.04, 0.04, 0.03, 0.03, 0.02, 0.02, 0.02, 0.01, 0.01, 0.01, 0.01, 0.01, 0.01, 0.01, 0.0, 0.0, 0.0, 0.0, 0.0, 0.0]\n",
      "p vals =  [0.0, 0.01, 0.02, 0.03, 0.04, 0.05, 0.06, 0.07, 0.08, 0.09, 0.1, 0.11, 0.12, 0.13, 0.14, 0.15, 0.16, 0.17, 0.18, 0.19, 0.2, 0.21, 0.22, 0.23, 0.24, 0.25, 0.26, 0.27, 0.28, 0.29, 0.3, 0.31, 0.32, 0.33, 0.34, 0.35, 0.36, 0.37, 0.38, 0.39, 0.4, 0.41, 0.42, 0.43, 0.44, 0.45, 0.46, 0.47, 0.48, 0.49, 0.5, 0.51, 0.52, 0.53, 0.54, 0.55, 0.56, 0.57, 0.58, 0.59, 0.6, 0.61, 0.62, 0.63, 0.64, 0.65, 0.66, 0.67, 0.68, 0.69, 0.7, 0.71, 0.72, 0.73, 0.74, 0.75, 0.76, 0.77, 0.78, 0.79, 0.8, 0.81, 0.82, 0.83, 0.84, 0.85, 0.86, 0.87, 0.88, 0.89, 0.9, 0.91, 0.92, 0.93, 0.94, 0.95, 0.96, 0.97, 0.98, 0.99]\n",
      "sims =  [1.0, 1.0, 1.0, 1.0, 1.0, 1.0, 1.0, 1.0, 0.99, 0.99, 0.99, 0.99, 0.99, 0.99, 0.99, 0.99, 0.98, 0.98, 0.98, 0.98, 0.98, 0.97, 0.96, 0.96, 0.95, 0.95, 0.94, 0.93, 0.92, 0.9, 0.89, 0.88, 0.86, 0.86, 0.83, 0.83, 0.79, 0.78, 0.75, 0.72, 0.72, 0.69, 0.66, 0.63, 0.6, 0.58, 0.56, 0.52, 0.48, 0.48, 0.48, 0.39, 0.39, 0.36, 0.33, 0.32, 0.3, 0.27, 0.25, 0.22, 0.22, 0.2, 0.18, 0.16, 0.15, 0.13, 0.12, 0.1, 0.1, 0.09, 0.08, 0.07, 0.06, 0.06, 0.05, 0.05, 0.04, 0.03, 0.03, 0.03, 0.03, 0.02, 0.02, 0.01, 0.01, 0.01, 0.01, 0.01, 0.01, 0.01, 0.01, 0.01, 0.01, 0.01, 0.01, 0.01, 0.01, 0.01, 0.01, 0.01]\n"
     ]
    }
   ],
   "source": [
    "from performance import * \n",
    "from lookalikes import *\n",
    "from data_utils import load_raw_eval_data\n",
    "import os\n",
    "\n",
    "\n",
    "def shared(tau, tau_hat):\n",
    "    return len(np.intersect1d(tau, tau_hat))\n",
    "\n",
    "suffix = \"_true.csv\"\n",
    "entries = os.listdir(\"evaluation_data\")\n",
    "\n",
    "modeltypes = [\"characteristic\", \"direct\"]\n",
    "filetypes = [\"_bolete.h5\", \"_bolete_lowres.h5\"]\n",
    "ps = {filetype:{} for filetype in filetypes}\n",
    "for p in range(100):\n",
    "    p = p/100\n",
    "    tau_hats = {}\n",
    "    for modeltype in modeltypes:\n",
    "        for filetype in filetypes:\n",
    "            name = modeltype+filetype\n",
    "            scores, y_pred, y_true, y_labels = load_raw_eval_data(name)\n",
    "            tau_hats[name] = []\n",
    "            for i in range(len(y_labels)):\n",
    "                if modeltype == \"direct\":\n",
    "                    i_scores = list(enumerate(scores[i]))\n",
    "                    sorted_scores = sorted(i_scores, key=lambda x: x[1], reverse=True)\n",
    "                    size_of_tau_hat = len(lookalikes(sorted_scores[0][0], p))\n",
    "                    tau_hat = [idx for (idx, val) in sorted_scores[:size_of_tau_hat]]\n",
    "                else:\n",
    "                    tau_hat = species_from_feats(y_pred[i], p)\n",
    "                tau_hats[name].append(tau_hat)\n",
    "    \n",
    "    for filetype in filetypes:\n",
    "        tau_hat_char = tau_hats[\"characteristic\"+filetype]\n",
    "        tau_hat_dir = tau_hats[\"direct\"+filetype]\n",
    "        num_examples = len(tau_hat_char)\n",
    "\n",
    "        percent_shared = 0\n",
    "        print(\"=\", end='')\n",
    "        for i in range(num_examples):\n",
    "            total_unique = set(list(tau_hat_char[i]) + list(tau_hat_dir[i]))\n",
    "            total = len(total_unique)\n",
    "            num_shared = shared(tau_hat_char[i], tau_hat_dir[i])\n",
    "            percent_shared += num_shared/total\n",
    "        percent_shared /= num_examples\n",
    "        ps[filetype][p] = round(percent_shared,2)\n",
    "\n",
    "for filetype in filetypes:\n",
    "    p_vals = [val for val in ps[filetype].keys()]\n",
    "    sims = [sim for sim in ps[filetype].values()]\n",
    "    # print('p vals = ', p_vals)\n",
    "    # print('sims = ', sims)\n",
    "    np.savetxt(\"performance_data/\" + filetype[1:] + \"_tau_hat_similarity.csv\", [p_vals, sims], delimiter=\",\", fmt=\"%f\",)"
   ]
  }
 ]
}