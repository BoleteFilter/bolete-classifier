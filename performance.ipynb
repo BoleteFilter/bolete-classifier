{
 "metadata": {
  "language_info": {
   "codemirror_mode": {
    "name": "ipython",
    "version": 3
   },
   "file_extension": ".py",
   "mimetype": "text/x-python",
   "name": "python",
   "nbconvert_exporter": "python",
   "pygments_lexer": "ipython3",
   "version": "3.6.12-final"
  },
  "orig_nbformat": 2,
  "kernelspec": {
   "name": "python361264bitcs682conda6c2838d37f0541629036f4dfbc2777db",
   "display_name": "Python 3.6.12 64-bit ('cs682': conda)"
  }
 },
 "nbformat": 4,
 "nbformat_minor": 2,
 "cells": [
  {
   "cell_type": "code",
   "execution_count": 1,
   "metadata": {},
   "outputs": [],
   "source": [
    "%load_ext autoreload\n",
    "%autoreload 2"
   ]
  },
  {
   "source": [
    "# Compute Performance Data and Save for Plotting P-Charts"
   ],
   "cell_type": "markdown",
   "metadata": {}
  },
  {
   "cell_type": "code",
   "execution_count": 1,
   "metadata": {},
   "outputs": [
    {
     "output_type": "stream",
     "name": "stdout",
     "text": [
      "characteristic_bolete.h5\n",
      "direct_bolete_lowres.h5\n",
      "direct_bolete.h5\n",
      "characteristic_bolete_lowres.h5\n",
      "direct_ed_bolete_lowres.h5\n",
      "direct_ed_bolete.h5\n"
     ]
    }
   ],
   "source": [
    "import os\n",
    "from performance import compute_and_save_performance\n",
    "suffix = \"_true.csv\"\n",
    "for entry in os.listdir(\"evaluation_data\"):\n",
    "    if suffix in entry:\n",
    "        name = entry[:-len(suffix)]\n",
    "        print(name)\n",
    "        compute_and_save_performance(name)"
   ]
  },
  {
   "source": [
    "# Get baselines for p-charts\n",
    "## Random Performance"
   ],
   "cell_type": "markdown",
   "metadata": {}
  },
  {
   "cell_type": "code",
   "execution_count": 26,
   "metadata": {
    "tags": []
   },
   "outputs": [
    {
     "output_type": "stream",
     "name": "stdout",
     "text": [
      "===================================================================================================="
     ]
    }
   ],
   "source": [
    "import numpy as np\n",
    "from performance import estimate_performance\n",
    "from data_utils import save_performance_data\n",
    "\n",
    "density = 100\n",
    "num_samples = 1000\n",
    "C = 38\n",
    "results = np.zeros((density,2))\n",
    "p_num = 0\n",
    "p_value = np.linspace(0,1,density)\n",
    "for p in p_value:\n",
    "    print(\"=\", end=\"\")\n",
    "    samples = np.zeros((num_samples, 172))\n",
    "    for s in range(num_samples):\n",
    "        u = np.random.randint(0,2,(C,))\n",
    "        samples[s,:] = estimate_performance(u, p).T\n",
    "    results[p_num,:] = [p, np.mean(samples)]\n",
    "    p_num += 1\n",
    "\n",
    "save_performance_data(results[:,0], results[:,1], \"baseline\")"
   ]
  },
  {
   "source": [
    "## Perfect Performance"
   ],
   "cell_type": "markdown",
   "metadata": {}
  },
  {
   "cell_type": "code",
   "execution_count": 4,
   "metadata": {
    "tags": []
   },
   "outputs": [
    {
     "output_type": "stream",
     "name": "stdout",
     "text": [
      "====================================================================================================="
     ]
    },
    {
     "output_type": "execute_result",
     "data": {
      "text/plain": [
       "True"
      ]
     },
     "metadata": {},
     "execution_count": 4
    }
   ],
   "source": [
    "import numpy as np\n",
    "from data_utils import save_performance_data\n",
    "from lookalikes import get_feats, get_num_species, get_performance\n",
    "\n",
    "density = 100\n",
    "C = 38\n",
    "results = np.zeros((density,2))\n",
    "p_num = 0\n",
    "for p in range(101):\n",
    "    print(\"=\", end=\"\")\n",
    "\n",
    "    perf = np.zeros((get_num_species(),))\n",
    "    \n",
    "    for ids in range(get_num_species()):\n",
    "        u = get_feats(ids)\n",
    "        perf[ids] = get_performance(u, ids, p/100)\n",
    "    \n",
    "    results[p_num,:] = [p/100, np.mean(perf)]\n",
    "\n",
    "save_performance_data(results[:,0], results[:,1], \"perfect\")"
   ]
  }
 ]
}