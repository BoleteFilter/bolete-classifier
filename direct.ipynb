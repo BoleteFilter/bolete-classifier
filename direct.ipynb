{
 "metadata": {
  "language_info": {
   "codemirror_mode": {
    "name": "ipython",
    "version": 3
   },
   "file_extension": ".py",
   "mimetype": "text/x-python",
   "name": "python",
   "nbconvert_exporter": "python",
   "pygments_lexer": "ipython3",
   "version": "3.6.12-final"
  },
  "orig_nbformat": 2,
  "kernelspec": {
   "name": "python361264bitcs682conda6c2838d37f0541629036f4dfbc2777db",
   "display_name": "Python 3.6.12 64-bit ('cs682': conda)"
  }
 },
 "nbformat": 4,
 "nbformat_minor": 2,
 "cells": [
  {
   "source": [
    "# Direct Model\n",
    "## Setup"
   ],
   "cell_type": "markdown",
   "metadata": {}
  },
  {
   "cell_type": "code",
   "execution_count": 8,
   "metadata": {},
   "outputs": [
    {
     "output_type": "stream",
     "name": "stdout",
     "text": [
      "The autoreload extension is already loaded. To reload it, use:\n  %reload_ext autoreload\nGPU Available: False\nusing device: cpu\n"
     ]
    }
   ],
   "source": [
    "from data_utils import *\n",
    "from train import * \n",
    "\n",
    "import numpy as np\n",
    "from sklearn.model_selection import StratifiedShuffleSplit\n",
    "\n",
    "import torch\n",
    "from torch import nn, optim\n",
    "import torch.nn.functional as F\n",
    "import torchvision.transforms as T\n",
    "import torchvision.models as models\n",
    "\n",
    "# for auto-reloading external modules\n",
    "# see http://stackoverflow.com/questions/1907993/autoreload-of-modules-in-ipython\n",
    "%load_ext autoreload\n",
    "%autoreload 2\n",
    "\n",
    "use_cuda = torch.cuda.is_available()\n",
    "print(\"GPU Available:\", use_cuda)\n",
    "device = torch.device(\"cuda:0\" if use_cuda else \"cpu\")\n",
    "torch.backends.cudnn.benchmark = True\n",
    "\n",
    "# dtype = torch.cuda.FloatTensor if use_cuda else torch.FloatTensor\n",
    "dtype = torch.float32\n",
    "\n",
    "print('using device:', device)"
   ]
  },
  {
   "source": [
    "## Load Dataset"
   ],
   "cell_type": "markdown",
   "metadata": {}
  },
  {
   "cell_type": "code",
   "execution_count": 9,
   "metadata": {},
   "outputs": [
    {
     "output_type": "stream",
     "name": "stdout",
     "text": [
      "ItemsViewHDF5(<HDF5 file \"bolete.h5\" (mode r)>)\n",
      "\n",
      "bolete-characteristics (38, 1868)\n",
      "bolete-edibility (5, 1868)\n",
      "bolete-images (3, 512, 512, 1868)\n",
      "bolete-labels (1868,)\n"
     ]
    }
   ],
   "source": [
    "data = load_bolete_data()\n",
    "print()\n",
    "for k in data.keys():\n",
    "    print(k, np.shape(data[k]))"
   ]
  },
  {
   "source": [
    "## Split into train and test"
   ],
   "cell_type": "markdown",
   "metadata": {}
  },
  {
   "cell_type": "code",
   "execution_count": 10,
   "metadata": {},
   "outputs": [
    {
     "output_type": "stream",
     "name": "stdout",
     "text": [
      "(1307, 3, 512, 512)\n"
     ]
    }
   ],
   "source": [
    "X_train, X_test, Y_train, Y_test = get_train_and_test(data, \"bolete-labels\")\n",
    "N, H, W, C = X_train.shape\n",
    "M = np.size(np.unique(Y_train))\n",
    "\n",
    "Y_train = Y_train.astype(np.long)\n",
    "Y_test = Y_test.astype(np.long)\n",
    "\n",
    "X_train = np.transpose(X_train,[0,3,1,2])\n",
    "print(X_train.shape)"
   ]
  },
  {
   "source": [
    "## Define models"
   ],
   "cell_type": "markdown",
   "metadata": {}
  },
  {
   "cell_type": "code",
   "execution_count": 11,
   "metadata": {},
   "outputs": [],
   "source": [
    "def simple_model():\n",
    "    # copy final model from ass igment 2\n",
    "    def flatten(x):\n",
    "        \"\"\"Flattens to [N, -1] where -1 is whatever it needs to be\"\"\"\n",
    "        N = x.shape[0] # read in N, C, H, W\n",
    "        return x.view(N, -1)  \n",
    "        # \"flatten\" the C * H * W values into a single vector per image\n",
    "    class Flatten(nn.Module):\n",
    "        def forward(self, x):\n",
    "            return flatten(x)\n",
    "\n",
    "    channel_1 = 32\n",
    "    channel_2 = 24\n",
    "    channel_3 = 16\n",
    "    hidden_dim = 150\n",
    "    torch.manual_seed(0)\n",
    "    learning_rate = 3e-3 # 1e-2\n",
    "\n",
    "    model = nn.Sequential(\n",
    "        nn.Conv2d(C, channel_1, kernel_size=5, padding=2),\n",
    "        # nn.GroupNorm(4,channel_1),\n",
    "        nn.BatchNorm2d(channel_1),\n",
    "        nn.ReLU(),\n",
    "        nn.Dropout(0.3),\n",
    "        nn.Conv2d(channel_1, channel_2, kernel_size=3, padding=1),\n",
    "        # nn.GroupNorm(4,channel_2),\n",
    "        nn.BatchNorm2d(channel_2),\n",
    "        nn.ReLU(),\n",
    "        nn.Dropout(0.2),\n",
    "        nn.Conv2d(channel_2, channel_3, kernel_size=3, padding=1),\n",
    "        # nn.GroupNorm(4,channel_3),\n",
    "        nn.BatchNorm2d(channel_3),\n",
    "        nn.ReLU(),\n",
    "        nn.Dropout(0.1),\n",
    "        Flatten(),\n",
    "        nn.Linear(channel_3 * H * W, hidden_dim),\n",
    "        nn.ReLU(),\n",
    "        nn.Linear(hidden_dim, M)\n",
    "    )\n",
    "    optimizer = optim.SGD(model.parameters(), lr=learning_rate,\n",
    "                        momentum=0.8, nesterov=True)\n",
    "    return model, optimizer\n"
   ]
  },
  {
   "source": [
    "## Define the loss function"
   ],
   "cell_type": "markdown",
   "metadata": {}
  },
  {
   "cell_type": "code",
   "execution_count": 15,
   "metadata": {},
   "outputs": [],
   "source": [
    "loss_fn = nn.CrossEntropyLoss()\n",
    "\n",
    "def pred_fn(scores):\n",
    "    m = nn.Softmax(dim=1)\n",
    "    return m(scores)"
   ]
  },
  {
   "source": [
    "## Cross Validate on training data"
   ],
   "cell_type": "markdown",
   "metadata": {}
  },
  {
   "cell_type": "code",
   "execution_count": 13,
   "metadata": {},
   "outputs": [
    {
     "output_type": "stream",
     "name": "stdout",
     "text": [
      "tensor([[False,  True,  True,  ...,  True, False,  True],\n        [False,  True,  True,  ..., False, False, False],\n        [ True,  True,  True,  ..., False, False,  True],\n        ...,\n        [ True,  True,  True,  ..., False, False,  True],\n        [ True, False,  True,  ..., False, False, False],\n        [ True,  True,  True,  ...,  True, False,  True]])\n"
     ]
    },
    {
     "output_type": "error",
     "ename": "RuntimeError",
     "evalue": "The size of tensor a (172) must match the size of tensor b (64) at non-singleton dimension 1",
     "traceback": [
      "\u001b[0;31m---------------------------------------------------------------------------\u001b[0m",
      "\u001b[0;31mRuntimeError\u001b[0m                              Traceback (most recent call last)",
      "\u001b[0;32m<ipython-input-13-3adb48d17608>\u001b[0m in \u001b[0;36m<module>\u001b[0;34m\u001b[0m\n\u001b[1;32m     13\u001b[0m     \u001b[0mdevice\u001b[0m\u001b[0;34m=\u001b[0m\u001b[0mdevice\u001b[0m\u001b[0;34m,\u001b[0m\u001b[0;34m\u001b[0m\u001b[0;34m\u001b[0m\u001b[0m\n\u001b[1;32m     14\u001b[0m     \u001b[0mdtype\u001b[0m\u001b[0;34m=\u001b[0m\u001b[0mdtype\u001b[0m\u001b[0;34m,\u001b[0m\u001b[0;34m\u001b[0m\u001b[0;34m\u001b[0m\u001b[0m\n\u001b[0;32m---> 15\u001b[0;31m     \u001b[0mtransform\u001b[0m\u001b[0;34m=\u001b[0m\u001b[0mtransform\u001b[0m\u001b[0;34m,\u001b[0m\u001b[0;34m\u001b[0m\u001b[0;34m\u001b[0m\u001b[0m\n\u001b[0m\u001b[1;32m     16\u001b[0m )\n",
      "\u001b[0;32m~/bolete/train.py\u001b[0m in \u001b[0;36mcross_val\u001b[0;34m(X_train, Y_train, model, optimizer, loss_fn, batch_size, num_epochs, show_every, device, dtype, transform)\u001b[0m\n\u001b[1;32m     97\u001b[0m             \u001b[0mshow_every\u001b[0m\u001b[0;34m=\u001b[0m\u001b[0mshow_every\u001b[0m\u001b[0;34m,\u001b[0m\u001b[0;34m\u001b[0m\u001b[0;34m\u001b[0m\u001b[0m\n\u001b[1;32m     98\u001b[0m             \u001b[0mdevice\u001b[0m\u001b[0;34m=\u001b[0m\u001b[0mdevice\u001b[0m\u001b[0;34m,\u001b[0m\u001b[0;34m\u001b[0m\u001b[0;34m\u001b[0m\u001b[0m\n\u001b[0;32m---> 99\u001b[0;31m             \u001b[0mdtype\u001b[0m\u001b[0;34m=\u001b[0m\u001b[0mdtype\u001b[0m\u001b[0;34m,\u001b[0m\u001b[0;34m\u001b[0m\u001b[0;34m\u001b[0m\u001b[0m\n\u001b[0m\u001b[1;32m    100\u001b[0m         )\n",
      "\u001b[0;32m~/bolete/train.py\u001b[0m in \u001b[0;36mtrain_model\u001b[0;34m(model, dataloaders, loss_fn, optimizer, num_epochs, show_every, device, dtype)\u001b[0m\n\u001b[1;32m     47\u001b[0m                         \u001b[0moptimizer\u001b[0m\u001b[0;34m.\u001b[0m\u001b[0mstep\u001b[0m\u001b[0;34m(\u001b[0m\u001b[0;34m)\u001b[0m\u001b[0;34m\u001b[0m\u001b[0;34m\u001b[0m\u001b[0m\n\u001b[1;32m     48\u001b[0m                 \u001b[0mrunning_loss\u001b[0m \u001b[0;34m+=\u001b[0m \u001b[0mloss\u001b[0m\u001b[0;34m.\u001b[0m\u001b[0mitem\u001b[0m\u001b[0;34m(\u001b[0m\u001b[0;34m)\u001b[0m \u001b[0;34m*\u001b[0m \u001b[0minputs\u001b[0m\u001b[0;34m.\u001b[0m\u001b[0msize\u001b[0m\u001b[0;34m(\u001b[0m\u001b[0;36m0\u001b[0m\u001b[0;34m)\u001b[0m\u001b[0;34m\u001b[0m\u001b[0;34m\u001b[0m\u001b[0m\n\u001b[0;32m---> 49\u001b[0;31m                 \u001b[0mrunning_corrects\u001b[0m \u001b[0;34m+=\u001b[0m \u001b[0mtorch\u001b[0m\u001b[0;34m.\u001b[0m\u001b[0msum\u001b[0m\u001b[0;34m(\u001b[0m\u001b[0mpreds\u001b[0m \u001b[0;34m==\u001b[0m \u001b[0mlabels\u001b[0m\u001b[0;34m.\u001b[0m\u001b[0mdata\u001b[0m\u001b[0;34m)\u001b[0m\u001b[0;34m\u001b[0m\u001b[0;34m\u001b[0m\u001b[0m\n\u001b[0m\u001b[1;32m     50\u001b[0m             \u001b[0mepoch_loss\u001b[0m \u001b[0;34m=\u001b[0m \u001b[0mrunning_loss\u001b[0m \u001b[0;34m/\u001b[0m \u001b[0mlen\u001b[0m\u001b[0;34m(\u001b[0m\u001b[0mdataloaders\u001b[0m\u001b[0;34m[\u001b[0m\u001b[0mphase\u001b[0m\u001b[0;34m]\u001b[0m\u001b[0;34m.\u001b[0m\u001b[0mdataset\u001b[0m\u001b[0;34m)\u001b[0m\u001b[0;34m\u001b[0m\u001b[0;34m\u001b[0m\u001b[0m\n\u001b[1;32m     51\u001b[0m             \u001b[0mepoch_acc\u001b[0m \u001b[0;34m=\u001b[0m \u001b[0mrunning_corrects\u001b[0m\u001b[0;34m.\u001b[0m\u001b[0mdouble\u001b[0m\u001b[0;34m(\u001b[0m\u001b[0;34m)\u001b[0m \u001b[0;34m/\u001b[0m \u001b[0mlen\u001b[0m\u001b[0;34m(\u001b[0m\u001b[0mdataloaders\u001b[0m\u001b[0;34m[\u001b[0m\u001b[0mphase\u001b[0m\u001b[0;34m]\u001b[0m\u001b[0;34m.\u001b[0m\u001b[0mdataset\u001b[0m\u001b[0;34m)\u001b[0m\u001b[0;34m\u001b[0m\u001b[0;34m\u001b[0m\u001b[0m\n",
      "\u001b[0;32m~/miniconda3/envs/cs682/lib/python3.6/site-packages/torch/tensor.py\u001b[0m in \u001b[0;36mwrapped\u001b[0;34m(*args, **kwargs)\u001b[0m\n\u001b[1;32m     25\u001b[0m             \u001b[0;32mreturn\u001b[0m \u001b[0mhandle_torch_function\u001b[0m\u001b[0;34m(\u001b[0m\u001b[0mwrapped\u001b[0m\u001b[0;34m,\u001b[0m \u001b[0margs\u001b[0m\u001b[0;34m,\u001b[0m \u001b[0;34m*\u001b[0m\u001b[0margs\u001b[0m\u001b[0;34m,\u001b[0m \u001b[0;34m**\u001b[0m\u001b[0mkwargs\u001b[0m\u001b[0;34m)\u001b[0m\u001b[0;34m\u001b[0m\u001b[0;34m\u001b[0m\u001b[0m\n\u001b[1;32m     26\u001b[0m         \u001b[0;32mtry\u001b[0m\u001b[0;34m:\u001b[0m\u001b[0;34m\u001b[0m\u001b[0;34m\u001b[0m\u001b[0m\n\u001b[0;32m---> 27\u001b[0;31m             \u001b[0;32mreturn\u001b[0m \u001b[0mf\u001b[0m\u001b[0;34m(\u001b[0m\u001b[0;34m*\u001b[0m\u001b[0margs\u001b[0m\u001b[0;34m,\u001b[0m \u001b[0;34m**\u001b[0m\u001b[0mkwargs\u001b[0m\u001b[0;34m)\u001b[0m\u001b[0;34m\u001b[0m\u001b[0;34m\u001b[0m\u001b[0m\n\u001b[0m\u001b[1;32m     28\u001b[0m         \u001b[0;32mexcept\u001b[0m \u001b[0mTypeError\u001b[0m\u001b[0;34m:\u001b[0m\u001b[0;34m\u001b[0m\u001b[0;34m\u001b[0m\u001b[0m\n\u001b[1;32m     29\u001b[0m             \u001b[0;32mreturn\u001b[0m \u001b[0mNotImplemented\u001b[0m\u001b[0;34m\u001b[0m\u001b[0;34m\u001b[0m\u001b[0m\n",
      "\u001b[0;31mRuntimeError\u001b[0m: The size of tensor a (172) must match the size of tensor b (64) at non-singleton dimension 1"
     ]
    }
   ],
   "source": [
    "model, optimizer = simple_model()\n",
    "transform = T.Compose([T.ToTensor()])\n",
    "\n",
    "cross_val(\n",
    "    X_train=X_train,\n",
    "    Y_train=Y_train,\n",
    "    model=model,\n",
    "    optimizer=optimizer,\n",
    "    loss_fn=loss_fn,\n",
    "    pred_fn=pred_fn,\n",
    "    batch_size=64,\n",
    "    num_epochs=1,\n",
    "    show_every=5,\n",
    "    device=device,\n",
    "    dtype=dtype,\n",
    "    transform=transform,\n",
    ")"
   ]
  },
  {
   "source": [
    "### Check status of GPU Memory for Debugging Purposes"
   ],
   "cell_type": "markdown",
   "metadata": {}
  },
  {
   "cell_type": "code",
   "execution_count": 14,
   "metadata": {},
   "outputs": [
    {
     "output_type": "stream",
     "name": "stdout",
     "text": [
      "<class 'torch.nn.parameter.Parameter'> torch.Size([32, 3, 5, 5])\n<class 'torch.nn.parameter.Parameter'> torch.Size([32])\n<class 'torch.nn.parameter.Parameter'> torch.Size([32])\n<class 'torch.nn.parameter.Parameter'> torch.Size([32])\n<class 'torch.nn.parameter.Parameter'> torch.Size([24, 32, 3, 3])\n<class 'torch.nn.parameter.Parameter'> torch.Size([24])\n<class 'torch.nn.parameter.Parameter'> torch.Size([24])\n<class 'torch.nn.parameter.Parameter'> torch.Size([24])\n<class 'torch.nn.parameter.Parameter'> torch.Size([16, 24, 3, 3])\n<class 'torch.nn.parameter.Parameter'> torch.Size([16])\n<class 'torch.nn.parameter.Parameter'> torch.Size([16])\n<class 'torch.nn.parameter.Parameter'> torch.Size([16])\n<class 'torch.nn.parameter.Parameter'> torch.Size([150, 4194304])\n<class 'torch.nn.parameter.Parameter'> torch.Size([150])\n<class 'torch.nn.parameter.Parameter'> torch.Size([172, 150])\n<class 'torch.nn.parameter.Parameter'> torch.Size([172])\n<class 'torch.Tensor'> torch.Size([32, 3, 5, 5])\n<class 'torch.Tensor'> torch.Size([32])\n<class 'torch.Tensor'> torch.Size([32])\n<class 'torch.Tensor'> torch.Size([32])\n<class 'torch.Tensor'> torch.Size([24, 32, 3, 3])\n<class 'torch.Tensor'> torch.Size([24])\n<class 'torch.Tensor'> torch.Size([24])\n<class 'torch.Tensor'> torch.Size([24])\n<class 'torch.Tensor'> torch.Size([16, 24, 3, 3])\n<class 'torch.Tensor'> torch.Size([16])\n<class 'torch.Tensor'> torch.Size([16])\n<class 'torch.Tensor'> torch.Size([16])\n<class 'torch.Tensor'> torch.Size([150, 4194304])\n<class 'torch.Tensor'> torch.Size([150])\n<class 'torch.Tensor'> torch.Size([172, 150])\n<class 'torch.Tensor'> torch.Size([172])\n<class 'torch.Tensor'> torch.Size([32])\n<class 'torch.Tensor'> torch.Size([32])\n<class 'torch.Tensor'> torch.Size([])\n<class 'torch.Tensor'> torch.Size([24])\n<class 'torch.Tensor'> torch.Size([24])\n<class 'torch.Tensor'> torch.Size([])\n<class 'torch.Tensor'> torch.Size([16])\n<class 'torch.Tensor'> torch.Size([16])\n<class 'torch.Tensor'> torch.Size([])\n<class 'torch.Tensor'> torch.Size([64, 3, 512, 512])\n<class 'torch.Tensor'> torch.Size([64])\n<class 'torch.Tensor'> torch.Size([64, 172])\n<class 'torch.Tensor'> torch.Size([64, 172])\n<class 'torch.Tensor'> torch.Size([])\n<class 'torch.Tensor'> torch.Size([64, 172])\n<class 'torch.Tensor'> torch.Size([32, 3, 5, 5])\n<class 'torch.Tensor'> torch.Size([32])\n<class 'torch.Tensor'> torch.Size([32])\n<class 'torch.Tensor'> torch.Size([32])\n<class 'torch.Tensor'> torch.Size([32])\n<class 'torch.Tensor'> torch.Size([32])\n<class 'torch.Tensor'> torch.Size([])\n<class 'torch.Tensor'> torch.Size([24, 32, 3, 3])\n<class 'torch.Tensor'> torch.Size([24])\n<class 'torch.Tensor'> torch.Size([24])\n<class 'torch.Tensor'> torch.Size([24])\n<class 'torch.Tensor'> torch.Size([24])\n<class 'torch.Tensor'> torch.Size([24])\n<class 'torch.Tensor'> torch.Size([])\n<class 'torch.Tensor'> torch.Size([16, 24, 3, 3])\n<class 'torch.Tensor'> torch.Size([16])\n<class 'torch.Tensor'> torch.Size([16])\n<class 'torch.Tensor'> torch.Size([16])\n<class 'torch.Tensor'> torch.Size([16])\n<class 'torch.Tensor'> torch.Size([16])\n<class 'torch.Tensor'> torch.Size([])\n<class 'torch.Tensor'> torch.Size([150, 4194304])\n<class 'torch.Tensor'> torch.Size([150])\n<class 'torch.Tensor'> torch.Size([172, 150])\n<class 'torch.Tensor'> torch.Size([172])\n<class 'torch.Tensor'> torch.Size([64])\n<class 'torch.nn.parameter.Parameter'> torch.Size([179])\n<class 'torch.nn.parameter.Parameter'> torch.Size([179, 150])\n<class 'torch.nn.parameter.Parameter'> torch.Size([150])\n<class 'torch.nn.parameter.Parameter'> torch.Size([150, 4194304])\n<class 'torch.Tensor'> torch.Size([64, 3, 512, 512])\n<class 'torch.Tensor'> torch.Size([64])\n<class 'torch.Tensor'> torch.Size([64, 179])\n<class 'torch.Tensor'> torch.Size([64, 179])\n<class 'torch.Tensor'> torch.Size([32, 3, 5, 5])\n<class 'torch.Tensor'> torch.Size([32])\n<class 'torch.Tensor'> torch.Size([32])\n<class 'torch.Tensor'> torch.Size([32])\n<class 'torch.Tensor'> torch.Size([32])\n<class 'torch.Tensor'> torch.Size([32])\n<class 'torch.Tensor'> torch.Size([])\n<class 'torch.Tensor'> torch.Size([24, 32, 3, 3])\n<class 'torch.Tensor'> torch.Size([24])\n<class 'torch.Tensor'> torch.Size([24])\n<class 'torch.Tensor'> torch.Size([24])\n<class 'torch.Tensor'> torch.Size([24])\n<class 'torch.Tensor'> torch.Size([24])\n<class 'torch.Tensor'> torch.Size([])\n<class 'torch.Tensor'> torch.Size([16, 24, 3, 3])\n<class 'torch.Tensor'> torch.Size([16])\n<class 'torch.Tensor'> torch.Size([16])\n<class 'torch.Tensor'> torch.Size([16])\n<class 'torch.Tensor'> torch.Size([16])\n<class 'torch.Tensor'> torch.Size([16])\n<class 'torch.Tensor'> torch.Size([])\n<class 'torch.Tensor'> torch.Size([150, 4194304])\n<class 'torch.Tensor'> torch.Size([150])\n<class 'torch.Tensor'> torch.Size([179, 150])\n<class 'torch.Tensor'> torch.Size([179])\n<class 'torch.Tensor'> torch.Size([64, 179])\n<class 'torch.nn.parameter.Parameter'> torch.Size([16])\n<class 'torch.nn.parameter.Parameter'> torch.Size([16])\n<class 'torch.nn.parameter.Parameter'> torch.Size([16])\n<class 'torch.nn.parameter.Parameter'> torch.Size([16, 24, 3, 3])\n<class 'torch.nn.parameter.Parameter'> torch.Size([24])\n<class 'torch.nn.parameter.Parameter'> torch.Size([24])\n<class 'torch.nn.parameter.Parameter'> torch.Size([24])\n<class 'torch.nn.parameter.Parameter'> torch.Size([24, 32, 3, 3])\n<class 'torch.nn.parameter.Parameter'> torch.Size([32])\n<class 'torch.nn.parameter.Parameter'> torch.Size([32])\n<class 'torch.nn.parameter.Parameter'> torch.Size([32])\n<class 'torch.nn.parameter.Parameter'> torch.Size([32, 3, 5, 5])\n<class 'torch.Tensor'> torch.Size([32])\n<class 'torch.Tensor'> torch.Size([32])\n<class 'torch.Tensor'> torch.Size([])\n<class 'torch.Tensor'> torch.Size([24])\n<class 'torch.Tensor'> torch.Size([24])\n<class 'torch.Tensor'> torch.Size([])\n<class 'torch.Tensor'> torch.Size([16])\n<class 'torch.Tensor'> torch.Size([16])\n<class 'torch.Tensor'> torch.Size([])\n"
     ]
    }
   ],
   "source": [
    "import torch\n",
    "import gc\n",
    "for obj in gc.get_objects():\n",
    "    try:\n",
    "        if torch.is_tensor(obj) or (hasattr(obj, 'data') and torch.is_tensor(obj.data)):\n",
    "            print(type(obj), obj.size())\n",
    "    except:\n",
    "        pass"
   ]
  }
 ]
}